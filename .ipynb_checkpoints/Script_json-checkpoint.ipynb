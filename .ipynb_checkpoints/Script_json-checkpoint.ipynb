{
 "cells": [
  {
   "cell_type": "code",
   "execution_count": null,
   "id": "8044fc96",
   "metadata": {},
   "outputs": [],
   "source": [
    "# Importer les bibliothèques nécessaires\n",
    "import pandas as pd\n",
    "import joblib\n",
    "from flask import Flask, request, jsonify\n",
    "\n",
    "# Initialiser l'application Flask\n",
    "app = Flask(__name__)\n",
    "\n",
    "# Charger le modèle pré-enregistré\n",
    "model = joblib.load('pipeline_scoring.joblib')\n",
    "\n",
    "# Définir le point de terminaison de prédiction\n",
    "@app.route('/predict', methods=['POST'])\n",
    "def predict():\n",
    "    # Extraire les données JSON de la requête\n",
    "    input_data = request.get_json(force=True)\n",
    "    \n",
    "    # Convertir les données en DataFrame (ajuster selon la structure de vos données)\n",
    "    input_df = pd.DataFrame([input_data])\n",
    "\n",
    "    # Utiliser le modèle pour faire une prédiction\n",
    "    y_proba = model.predict_proba(input_df)[:, 1]  # Probabilité de la classe positive\n",
    "    y_pred = (y_proba >= 0.081).astype(int)         # Conversion en classe (ajustez le seuil si nécessaire)\n",
    "\n",
    "    # Retourner les résultats en JSON\n",
    "    return jsonify({'y_proba': float(y_proba[0]), 'y_pred': int(y_pred[0])})\n",
    "\n",
    "# Démarrer l'application\n",
    "if __name__ == '__main__':\n",
    "    app.run(host='127.0.0.1', port=8080, debug=True)"
   ]
  }
 ],
 "metadata": {
  "kernelspec": {
   "display_name": "Python 3 (ipykernel)",
   "language": "python",
   "name": "python3"
  },
  "language_info": {
   "codemirror_mode": {
    "name": "ipython",
    "version": 3
   },
   "file_extension": ".py",
   "mimetype": "text/x-python",
   "name": "python",
   "nbconvert_exporter": "python",
   "pygments_lexer": "ipython3",
   "version": "3.8.15"
  }
 },
 "nbformat": 4,
 "nbformat_minor": 5
}
