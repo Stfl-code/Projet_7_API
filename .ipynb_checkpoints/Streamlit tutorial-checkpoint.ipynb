{
 "cells": [
  {
   "cell_type": "code",
   "execution_count": 3,
   "id": "ca019591",
   "metadata": {
    "scrolled": true
   },
   "outputs": [],
   "source": [
    "import streamlit as st\n",
    "import pandas as pd\n",
    "import numpy as np"
   ]
  },
  {
   "cell_type": "code",
   "execution_count": 4,
   "id": "1320614c",
   "metadata": {},
   "outputs": [
    {
     "name": "stderr",
     "output_type": "stream",
     "text": [
      "2024-10-02 11:42:15.469 WARNING streamlit.runtime.scriptrunner_utils.script_run_context: Thread 'MainThread': missing ScriptRunContext! This warning can be ignored when running in bare mode.\n",
      "2024-10-02 11:42:15.890 \n",
      "  \u001b[33m\u001b[1mWarning:\u001b[0m to view this Streamlit app on a browser, run it with the following\n",
      "  command:\n",
      "\n",
      "    streamlit run C:\\Users\\steph\\anaconda3\\envs\\projet7\\lib\\site-packages\\ipykernel_launcher.py [ARGUMENTS]\n",
      "2024-10-02 11:42:15.891 Thread 'MainThread': missing ScriptRunContext! This warning can be ignored when running in bare mode.\n"
     ]
    },
    {
     "data": {
      "text/plain": [
       "DeltaGenerator()"
      ]
     },
     "execution_count": 4,
     "metadata": {},
     "output_type": "execute_result"
    }
   ],
   "source": [
    "st.title('Uber pickups in NYC')"
   ]
  },
  {
   "cell_type": "markdown",
   "id": "9c63ef3b",
   "metadata": {},
   "source": [
    "!streamlit run uber_pickups.py"
   ]
  },
  {
   "cell_type": "code",
   "execution_count": null,
   "id": "91ab5b96",
   "metadata": {},
   "outputs": [],
   "source": [
    "DATE_COLUMN = 'date/time'\n",
    "DATA_URL = ('https://s3-us-west-2.amazonaws.com/'\n",
    "         'streamlit-demo-data/uber-raw-data-sep14.csv.gz')\n",
    "\n",
    "def load_data(nrows):\n",
    "    data = pd.read_csv(DATA_URL, nrows=nrows)\n",
    "    lowercase = lambda x: str(x).lower()\n",
    "    data.rename(lowercase, axis='columns', inplace=True)\n",
    "    data[DATE_COLUMN] = pd.to_datetime(data[DATE_COLUMN])\n",
    "    return data"
   ]
  },
  {
   "cell_type": "code",
   "execution_count": null,
   "id": "0793d6e6",
   "metadata": {},
   "outputs": [],
   "source": [
    "# Create a text element and let the reader know the data is loading.\n",
    "data_load_state = st.text('Loading data...')\n",
    "# Load 10,000 rows of data into the dataframe.\n",
    "data = load_data(10000)\n",
    "# Notify the reader that the data was successfully loaded.\n",
    "data_load_state.text('Loading data...done!')"
   ]
  },
  {
   "cell_type": "code",
   "execution_count": null,
   "id": "ddd202e7",
   "metadata": {},
   "outputs": [],
   "source": [
    "@st.cache_data\n",
    "def load_data(nrows):"
   ]
  },
  {
   "cell_type": "code",
   "execution_count": null,
   "id": "04c2cad4",
   "metadata": {},
   "outputs": [],
   "source": [
    "data_load_state.text(\"Done! (using st.cache_data)\")"
   ]
  },
  {
   "cell_type": "code",
   "execution_count": null,
   "id": "99f309e6",
   "metadata": {},
   "outputs": [],
   "source": [
    "st.subheader('Raw data')\n",
    "st.write(data)"
   ]
  },
  {
   "cell_type": "code",
   "execution_count": null,
   "id": "a7d6aa30",
   "metadata": {},
   "outputs": [],
   "source": [
    "st.subheader('Number of pickups by hour')\n",
    "\n",
    "hist_values = np.histogram(\n",
    "    data[DATE_COLUMN].dt.hour, bins=24, range=(0,24))[0]\n",
    "\n",
    "st.bar_chart(hist_values)"
   ]
  },
  {
   "cell_type": "code",
   "execution_count": null,
   "id": "3a9f4081",
   "metadata": {},
   "outputs": [],
   "source": [
    "st.subheader('Map of all pickups')\n",
    "st.map(data)"
   ]
  },
  {
   "cell_type": "code",
   "execution_count": null,
   "id": "889cc859",
   "metadata": {},
   "outputs": [],
   "source": [
    "hour_to_filter = 17\n",
    "filtered_data = data[data[DATE_COLUMN].dt.hour == hour_to_filter]\n",
    "st.subheader(f'Map of all pickups at {hour_to_filter}:00')\n",
    "st.map(filtered_data)"
   ]
  },
  {
   "cell_type": "code",
   "execution_count": null,
   "id": "76e90cf4",
   "metadata": {},
   "outputs": [],
   "source": [
    "hour_to_filter = st.slider('hour', 0, 23, 17)  # min: 0h, max: 23h, default: 17h"
   ]
  },
  {
   "cell_type": "code",
   "execution_count": null,
   "id": "791d4352",
   "metadata": {},
   "outputs": [],
   "source": [
    "if st.checkbox('Show raw data'):\n",
    "    st.subheader('Raw data')\n",
    "    st.write(data)"
   ]
  }
 ],
 "metadata": {
  "kernelspec": {
   "display_name": "Python 3 (ipykernel)",
   "language": "python",
   "name": "python3"
  },
  "language_info": {
   "codemirror_mode": {
    "name": "ipython",
    "version": 3
   },
   "file_extension": ".py",
   "mimetype": "text/x-python",
   "name": "python",
   "nbconvert_exporter": "python",
   "pygments_lexer": "ipython3",
   "version": "3.8.15"
  }
 },
 "nbformat": 4,
 "nbformat_minor": 5
}
