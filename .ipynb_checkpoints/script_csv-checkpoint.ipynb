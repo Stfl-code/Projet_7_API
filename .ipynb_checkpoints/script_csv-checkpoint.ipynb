{
 "cells": [
  {
   "cell_type": "code",
   "execution_count": 2,
   "id": "9f7597db",
   "metadata": {
    "ExecuteTime": {
     "end_time": "2024-10-02T00:46:29.402838Z",
     "start_time": "2024-10-02T00:46:26.827074Z"
    }
   },
   "outputs": [
    {
     "name": "stdout",
     "output_type": "stream",
     "text": [
      " * Serving Flask app '__main__'\n",
      " * Debug mode: on\n"
     ]
    },
    {
     "name": "stderr",
     "output_type": "stream",
     "text": [
      "WARNING: This is a development server. Do not use it in a production deployment. Use a production WSGI server instead.\n",
      " * Running on http://127.0.0.1:8080\n",
      "Press CTRL+C to quit\n",
      " * Restarting with watchdog (windowsapi)\n"
     ]
    },
    {
     "ename": "SystemExit",
     "evalue": "1",
     "output_type": "error",
     "traceback": [
      "An exception has occurred, use %tb to see the full traceback.\n",
      "\u001b[1;31mSystemExit\u001b[0m\u001b[1;31m:\u001b[0m 1\n"
     ]
    },
    {
     "name": "stderr",
     "output_type": "stream",
     "text": [
      "C:\\Users\\steph\\anaconda3\\envs\\projet7\\lib\\site-packages\\IPython\\core\\interactiveshell.py:3516: UserWarning: To exit: use 'exit', 'quit', or Ctrl-D.\n",
      "  warn(\"To exit: use 'exit', 'quit', or Ctrl-D.\", stacklevel=1)\n"
     ]
    }
   ],
   "source": [
    "# Importer les bibliothèques nécessaires\n",
    "import pandas as pd\n",
    "import joblib\n",
    "from flask import Flask, request, jsonify\n",
    "\n",
    "# Initialiser l'application Flask\n",
    "app = Flask(__name__)\n",
    "\n",
    "# Charger le modèle pré-enregistré\n",
    "model = joblib.load('pipeline_scoring.joblib')\n",
    "\n",
    "# Définir le point de terminaison de prédiction\n",
    "@app.route('/predict_csv', methods=['POST'])\n",
    "def predict():\n",
    "    # Vérifier si un fichier a bien été envoyé avec la requête\n",
    "    if 'file' not in request.files:\n",
    "        return jsonify({'error': 'No file part in the request'}), 400\n",
    "    \n",
    "    file = request.files['file']\n",
    "\n",
    "    # Vérifier si le fichier est valide\n",
    "    if file.filename == '':\n",
    "        return jsonify({'error': 'No file selected'}), 400\n",
    "    \n",
    "    # Convertir les données en DataFrame (ajuster selon la structure de vos données)\n",
    "    input_df = pd.read_csv(file)\n",
    "\n",
    "    # Utiliser le modèle pour faire une prédiction\n",
    "    y_proba = model.predict_proba(input_df)[:, 1]  # Probabilité de la classe positive\n",
    "    y_pred = (y_proba >= 0.081).astype(int)         # Conversion en classe (ajustez le seuil si nécessaire)\n",
    "\n",
    "    # Retourner les résultats en JSON\n",
    "    return jsonify({'y_proba': float(y_proba[0]), 'y_pred': int(y_pred[0])})\n",
    "\n",
    "# Démarrer l'application\n",
    "if __name__ == '__main__':\n",
    "    app.run(host='127.0.0.1', port=8080, debug=True)"
   ]
  },
  {
   "cell_type": "code",
   "execution_count": null,
   "id": "37d6ffad",
   "metadata": {},
   "outputs": [],
   "source": []
  }
 ],
 "metadata": {
  "kernelspec": {
   "display_name": "Python 3 (ipykernel)",
   "language": "python",
   "name": "python3"
  },
  "language_info": {
   "codemirror_mode": {
    "name": "ipython",
    "version": 3
   },
   "file_extension": ".py",
   "mimetype": "text/x-python",
   "name": "python",
   "nbconvert_exporter": "python",
   "pygments_lexer": "ipython3",
   "version": "3.8.15"
  }
 },
 "nbformat": 4,
 "nbformat_minor": 5
}
