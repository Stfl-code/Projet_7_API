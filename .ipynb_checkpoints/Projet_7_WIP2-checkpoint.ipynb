{
 "cells": [
  {
   "cell_type": "markdown",
   "id": "3d1acdaa",
   "metadata": {},
   "source": [
    "# <font color=#6026B2>**Projet 7 : Implémenter un modèle de scoring**</font>"
   ]
  },
  {
   "cell_type": "markdown",
   "id": "0aa1279b",
   "metadata": {},
   "source": [
    "## Import des librairies"
   ]
  },
  {
   "cell_type": "code",
   "execution_count": 1,
   "id": "f5e34303",
   "metadata": {
    "ExecuteTime": {
     "end_time": "2024-10-09T15:22:51.947139Z",
     "start_time": "2024-10-09T15:22:49.124968Z"
    },
    "code_folding": []
   },
   "outputs": [],
   "source": [
    "import numpy as np\n",
    "import pandas as pd\n",
    "import gc\n",
    "import time\n",
    "import re\n",
    "from contextlib import contextmanager\n",
    "import matplotlib.pyplot as plt\n",
    "import seaborn as sns\n",
    "\n",
    "from sklearn.linear_model import LogisticRegression\n",
    "from sklearn.metrics import roc_auc_score, roc_curve, confusion_matrix, accuracy_score, precision_score, recall_score, f1_score, fbeta_score, make_scorer\n",
    "from sklearn.model_selection import KFold, StratifiedKFold, train_test_split, cross_val_score, GridSearchCV\n",
    "from sklearn.preprocessing import OneHotEncoder\n",
    "from sklearn.ensemble import RandomForestClassifier\n",
    "from sklearn.dummy import DummyClassifier\n",
    "from lightgbm import LGBMClassifier, early_stopping\n",
    "from xgboost import XGBClassifier\n",
    "\n",
    "import mlflow\n",
    "from mlflow.models import infer_signature\n",
    "\n",
    "from bayes_opt import BayesianOptimization\n",
    "\n",
    "#import warnings\n",
    "#warnings.simplefilter(action='ignore', category=FutureWarning)"
   ]
  },
  {
   "cell_type": "code",
   "execution_count": 2,
   "id": "7f94fed2",
   "metadata": {
    "ExecuteTime": {
     "end_time": "2024-10-09T15:22:51.962122Z",
     "start_time": "2024-10-09T15:22:51.951131Z"
    }
   },
   "outputs": [],
   "source": [
    "# URL MLFlow\n",
    "mlflow.set_tracking_uri(uri=\"http://127.0.0.1:8080\")"
   ]
  },
  {
   "cell_type": "markdown",
   "id": "35a0ecdc",
   "metadata": {
    "heading_collapsed": true
   },
   "source": [
    "## EDA"
   ]
  },
  {
   "cell_type": "markdown",
   "id": "f7136746",
   "metadata": {},
   "source": [
    "## Feature Extraction"
   ]
  },
  {
   "cell_type": "markdown",
   "id": "f3a28ef6",
   "metadata": {},
   "source": [
    "### Data train"
   ]
  },
  {
   "cell_type": "code",
   "execution_count": 3,
   "id": "12c75867",
   "metadata": {
    "ExecuteTime": {
     "end_time": "2024-10-09T15:22:57.295868Z",
     "start_time": "2024-10-09T15:22:51.965094Z"
    }
   },
   "outputs": [
    {
     "name": "stdout",
     "output_type": "stream",
     "text": [
      "Train samples: 307511, test samples: 48744\n"
     ]
    }
   ],
   "source": [
    "num_rows = None\n",
    "nan_as_category = False\n",
    "\n",
    "# Read data and merge\n",
    "train_df = pd.read_csv('Input_data/application_train.csv', nrows= num_rows)\n",
    "test_df = pd.read_csv('Input_data/application_test.csv', nrows= num_rows)\n",
    "print(\"Train samples: {}, test samples: {}\".format(len(train_df), len(test_df)))\n",
    "df = pd.concat([train_df, test_df]).reset_index(drop=True)\n",
    "# Optional: Remove 4 applications with XNA CODE_GENDER (train set)\n",
    "df = df[df['CODE_GENDER'] != 'XNA']\n",
    "\n",
    "# Categorical features with Binary encode (0 or 1; two categories)\n",
    "for bin_feature in ['CODE_GENDER', 'FLAG_OWN_CAR', 'FLAG_OWN_REALTY']:\n",
    "    df[bin_feature], uniques = pd.factorize(df[bin_feature])\n",
    "\n",
    "# Categorical features with One-Hot encode\n",
    "original_columns = list(df.columns)\n",
    "categorical_columns = [col for col in df.columns if df[col].dtype == 'object']\n",
    "\n",
    "# instancie objet OHE\n",
    "onehot_encoder = OneHotEncoder(sparse_output=False)\n",
    "\n",
    "# Utilise OHE\n",
    "df_new_cols = onehot_encoder.fit_transform(df[categorical_columns])\n",
    "\n",
    "# Créez un DataFrame avec les nouvelles colonnes encodées\n",
    "encoded_df = pd.DataFrame(df_new_cols, columns=onehot_encoder.get_feature_names_out(categorical_columns))\n",
    "\n",
    "# Supprimer les colonnes catégorielles d'origine du DataFrame initial\n",
    "df = df.drop(categorical_columns, axis=1)\n",
    "\n",
    "# Concaténez le DataFrame d'origine avec le DataFrame contenant les nouvelles colonnes encodées\n",
    "df = pd.concat([df, encoded_df], axis=1)\n",
    "\n",
    "# NaN values for DAYS_EMPLOYED: 365.243 -> nan\n",
    "df['DAYS_EMPLOYED'].replace(365243, np.nan, inplace= True)\n",
    "# Some simple new features (percentages)\n",
    "df['DAYS_EMPLOYED_PERC'] = df['DAYS_EMPLOYED'] / df['DAYS_BIRTH']\n",
    "df['INCOME_CREDIT_PERC'] = df['AMT_INCOME_TOTAL'] / df['AMT_CREDIT']\n",
    "df['INCOME_PER_PERSON'] = df['AMT_INCOME_TOTAL'] / df['CNT_FAM_MEMBERS']\n",
    "df['ANNUITY_INCOME_PERC'] = df['AMT_ANNUITY'] / df['AMT_INCOME_TOTAL']\n",
    "df['PAYMENT_RATE'] = df['AMT_ANNUITY'] / df['AMT_CREDIT']"
   ]
  },
  {
   "cell_type": "markdown",
   "id": "62cc454a",
   "metadata": {
    "ExecuteTime": {
     "end_time": "2024-09-26T21:12:43.885897Z",
     "start_time": "2024-09-26T21:12:43.871904Z"
    }
   },
   "source": [
    "df.dtypes.value_counts()"
   ]
  },
  {
   "cell_type": "markdown",
   "id": "9f676e23",
   "metadata": {},
   "source": [
    "#### Traitement valeurs manquantes"
   ]
  },
  {
   "cell_type": "code",
   "execution_count": 4,
   "id": "058fda7f",
   "metadata": {
    "ExecuteTime": {
     "end_time": "2024-10-09T15:22:57.311794Z",
     "start_time": "2024-10-09T15:22:57.298830Z"
    }
   },
   "outputs": [],
   "source": [
    "# Function to calculate missing values by column# Funct \n",
    "def missing_values_table(df):\n",
    "        # Total missing values\n",
    "        mis_val = df.isnull().sum()\n",
    "        \n",
    "        # Percentage of missing values\n",
    "        mis_val_percent = 100 * df.isnull().sum() / len(df)\n",
    "        \n",
    "        # Make a table with the results\n",
    "        mis_val_table = pd.concat([mis_val, mis_val_percent], axis=1)\n",
    "        \n",
    "        # Rename the columns\n",
    "        mis_val_table_ren_columns = mis_val_table.rename(\n",
    "        columns = {0 : 'Missing Values', 1 : '% of Total Values'})\n",
    "        \n",
    "        # Sort the table by percentage of missing descending\n",
    "        mis_val_table_ren_columns = mis_val_table_ren_columns[\n",
    "            mis_val_table_ren_columns.iloc[:,1] != 0].sort_values(\n",
    "        '% of Total Values', ascending=False).round(1)\n",
    "        \n",
    "        # Print some summary information\n",
    "        print (\"Your selected dataframe has \" + str(df.shape[1]) + \" columns.\\n\"      \n",
    "            \"There are \" + str(mis_val_table_ren_columns.shape[0]) +\n",
    "              \" columns that have missing values.\")\n",
    "        \n",
    "        # Return the dataframe with missing information\n",
    "        return mis_val_table_ren_columns"
   ]
  },
  {
   "cell_type": "code",
   "execution_count": 5,
   "id": "28c65930",
   "metadata": {
    "ExecuteTime": {
     "end_time": "2024-10-09T15:23:01.084352Z",
     "start_time": "2024-10-09T15:22:57.316781Z"
    }
   },
   "outputs": [
    {
     "name": "stderr",
     "output_type": "stream",
     "text": [
      "C:\\Users\\steph\\AppData\\Local\\Temp\\ipykernel_25300\\3394742014.py:3: PerformanceWarning: DataFrame is highly fragmented.  This is usually the result of calling `frame.insert` many times, which has poor performance.  Consider joining all columns at once using pd.concat(axis=1) instead. To get a de-fragmented frame, use `newframe = frame.copy()`\n",
      "  df_mean['TARGET'] = df['TARGET']\n"
     ]
    },
    {
     "name": "stdout",
     "output_type": "stream",
     "text": [
      "(307507, 253)\n",
      "(48748, 253)\n"
     ]
    }
   ],
   "source": [
    "# Remplacer les valeurs manquantes par la moyenne pour toutes les colonnes sauf celle à exclure\n",
    "df_mean = df.drop(columns=['TARGET']).fillna(df.drop(columns=['TARGET']).mean())\n",
    "df_mean['TARGET'] = df['TARGET']\n",
    "\n",
    "train_df_mean = df_mean[df_mean['TARGET'].notnull()]\n",
    "test_df_mean = df_mean[df_mean['TARGET'].isnull()]\n",
    "\n",
    "print (train_df_mean.shape)\n",
    "print (test_df_mean.shape)\n",
    "\n",
    "# Séparation de la variable cible et des features\n",
    "y = train_df_mean[\"TARGET\"]\n",
    "X = train_df_mean.drop(\"TARGET\", axis=1)"
   ]
  },
  {
   "cell_type": "code",
   "execution_count": null,
   "id": "e29a6e33",
   "metadata": {},
   "outputs": [],
   "source": [
    "# Remplacer les valeurs manquantes par la moyenne pour toutes les colonnes sauf celle à exclure\n",
    "df_median = df.drop(columns=['TARGET']).fillna(df.drop(columns=['TARGET']).median())\n",
    "df_median['TARGET'] = df['TARGET']\n",
    "\n",
    "train_df_mean = df_median[df_median['TARGET'].notnull()]\n",
    "test_df_mean = df_median[df_median['TARGET'].isnull()]\n",
    "\n",
    "print (train_df_median.shape)\n",
    "print (test_df_median.shape)\n",
    "\n",
    "# Séparation de la variable cible et des features\n",
    "y = train_df_median[\"TARGET\"]\n",
    "X = train_df_median.drop(\"TARGET\", axis=1)"
   ]
  },
  {
   "cell_type": "code",
   "execution_count": 29,
   "id": "3c94bdf6",
   "metadata": {
    "ExecuteTime": {
     "end_time": "2024-09-27T08:32:36.554920Z",
     "start_time": "2024-09-27T08:32:35.490404Z"
    }
   },
   "outputs": [
    {
     "name": "stdout",
     "output_type": "stream",
     "text": [
      "(356255, 253)\n",
      "(0, 253)\n"
     ]
    }
   ],
   "source": [
    "# Divide in training/validation and test data\n",
    "df_zero = df.drop(columns=['TARGET']).fillna(0)\n",
    "df_zero['TARGET'] = df['TARGET']\n",
    "\n",
    "train_df_zero = df_zero[df_zero['TARGET'].notnull()]\n",
    "test_df_zero = df_zero[df_zero['TARGET'].isnull()]\n",
    "\n",
    "print (train_df_zero.shape)\n",
    "print (test_df_zero.shape)\n",
    "\n",
    "# Séparation de la variable cible et des features\n",
    "y = train_df_zero[\"TARGET\"]\n",
    "X = train_df_zero.drop(\"TARGET\", axis=1)"
   ]
  },
  {
   "cell_type": "markdown",
   "id": "fcae1d76",
   "metadata": {},
   "source": [
    "### df main"
   ]
  },
  {
   "cell_type": "code",
   "execution_count": 6,
   "id": "3fda0226",
   "metadata": {
    "ExecuteTime": {
     "end_time": "2024-10-09T15:23:32.789920Z",
     "start_time": "2024-10-09T15:23:31.677521Z"
    }
   },
   "outputs": [],
   "source": [
    "# Diviser les données en ensembles d'entraînement et de validation\n",
    "x_train, x_valid, y_train, y_valid = train_test_split(X, y, test_size=0.15, random_state=88)\n",
    "x_test = test_df\n",
    "\n",
    "# Prétraitement : suppression des caractères spéciaux des noms de colonnes\n",
    "x_train = x_train.rename(columns=lambda x: re.sub('[^A-Za-z0-9_]+', '', x))\n",
    "x_test = x_test.rename(columns=lambda x: re.sub('[^A-Za-z0-9_]+', '', x))\n",
    "x_valid = x_valid.rename(columns = lambda x:re.sub('[^A-Za-z0-9_]+', '', x))"
   ]
  },
  {
   "cell_type": "code",
   "execution_count": 7,
   "id": "a1b52725",
   "metadata": {
    "ExecuteTime": {
     "end_time": "2024-10-09T15:23:34.055796Z",
     "start_time": "2024-10-09T15:23:32.792914Z"
    }
   },
   "outputs": [],
   "source": [
    "# Diviser les données en ensembles d'entraînement et de validation\n",
    "x_train_strat, x_valid_strat, y_train_strat, y_valid_strat = train_test_split(X, y, test_size=0.15, stratify=y, random_state=88)\n",
    "\n",
    "# Prétraitement : suppression des caractères spéciaux des noms de colonnes\n",
    "x_train_strat = x_train_strat.rename(columns=lambda x: re.sub('[^A-Za-z0-9_]+', '', x))\n",
    "x_valid_strat = x_valid_strat.rename(columns = lambda x:re.sub('[^A-Za-z0-9_]+', '', x))"
   ]
  },
  {
   "cell_type": "code",
   "execution_count": 8,
   "id": "d4841a61",
   "metadata": {
    "ExecuteTime": {
     "end_time": "2024-10-09T15:23:34.117943Z",
     "start_time": "2024-10-09T15:23:34.058791Z"
    }
   },
   "outputs": [
    {
     "name": "stdout",
     "output_type": "stream",
     "text": [
      "Your selected dataframe has 252 columns.\n",
      "There are 0 columns that have missing values.\n"
     ]
    },
    {
     "data": {
      "text/html": [
       "<div>\n",
       "<style scoped>\n",
       "    .dataframe tbody tr th:only-of-type {\n",
       "        vertical-align: middle;\n",
       "    }\n",
       "\n",
       "    .dataframe tbody tr th {\n",
       "        vertical-align: top;\n",
       "    }\n",
       "\n",
       "    .dataframe thead th {\n",
       "        text-align: right;\n",
       "    }\n",
       "</style>\n",
       "<table border=\"1\" class=\"dataframe\">\n",
       "  <thead>\n",
       "    <tr style=\"text-align: right;\">\n",
       "      <th></th>\n",
       "      <th>Missing Values</th>\n",
       "      <th>% of Total Values</th>\n",
       "    </tr>\n",
       "  </thead>\n",
       "  <tbody>\n",
       "  </tbody>\n",
       "</table>\n",
       "</div>"
      ],
      "text/plain": [
       "Empty DataFrame\n",
       "Columns: [Missing Values, % of Total Values]\n",
       "Index: []"
      ]
     },
     "execution_count": 8,
     "metadata": {},
     "output_type": "execute_result"
    }
   ],
   "source": [
    "missing_values = missing_values_table(x_valid)\n",
    "missing_values.head(20)"
   ]
  },
  {
   "cell_type": "code",
   "execution_count": 17,
   "id": "ceba06a8",
   "metadata": {
    "ExecuteTime": {
     "end_time": "2024-10-09T15:33:25.616038Z",
     "start_time": "2024-10-09T15:33:25.600057Z"
    }
   },
   "outputs": [],
   "source": [
    "# Enregistrer le DataFrame prétraité (optionnel)\n",
    "x_valid_strat.head().to_csv('mask.csv', index=False)"
   ]
  },
  {
   "cell_type": "markdown",
   "id": "c52fd680",
   "metadata": {},
   "source": [
    "## Scoring\n",
    "\n",
    "Le sujet répond à un problème de classification binaire de clients sujets à défaut ou non. \n",
    "\n",
    "Les modèles les plus courants pour traiter ce type de problème sont : \n",
    "* LogisticRegression\n",
    "* XGBoost\n",
    "* LGBMClassifier\n",
    "* DummyClassifier (pour une Baseline)\n",
    "\n",
    "Les métriques communes à ces modèles et qu'il conviendra de suivre sont : \n",
    "* Accuracy\n",
    "* Precision\n",
    "* Recall\n",
    "* F1/F10 Score\n",
    "* Precision-Recall AUC"
   ]
  },
  {
   "cell_type": "markdown",
   "id": "f5a440fc",
   "metadata": {
    "heading_collapsed": true
   },
   "source": [
    "### Sans stratification"
   ]
  },
  {
   "cell_type": "code",
   "execution_count": 9,
   "id": "75652c3d",
   "metadata": {
    "ExecuteTime": {
     "end_time": "2024-10-09T15:23:50.545903Z",
     "start_time": "2024-10-09T15:23:37.342577Z"
    },
    "hidden": true
   },
   "outputs": [
    {
     "name": "stderr",
     "output_type": "stream",
     "text": [
      "2024/10/09 17:23:37 INFO mlflow.tracking.fluent: Experiment with name 'Best_cutoff' does not exist. Creating a new experiment.\n"
     ]
    },
    {
     "name": "stdout",
     "output_type": "stream",
     "text": [
      "[LightGBM] [Info] Number of positive: 21060, number of negative: 240320\n",
      "[LightGBM] [Info] Auto-choosing row-wise multi-threading, the overhead of testing was 0.057366 seconds.\n",
      "You can set `force_row_wise=true` to remove the overhead.\n",
      "And if memory is not enough, you can set `force_col_wise=true`.\n",
      "[LightGBM] [Info] Total Bins 12876\n",
      "[LightGBM] [Info] Number of data points in the train set: 261380, number of used features: 241\n",
      "[LightGBM] [Info] [binary:BoostFromScore]: pavg=0.080572 -> initscore=-2.434596\n",
      "[LightGBM] [Info] Start training from score -2.434596\n"
     ]
    },
    {
     "name": "stderr",
     "output_type": "stream",
     "text": [
      "2024/10/09 17:23:49 WARNING mlflow.models.model: Model logged without a signature and input example. Please set `input_example` parameter when logging the model to auto infer the model signature.\n",
      "Successfully registered model 'Cutoff_best_value'.\n",
      "2024/10/09 17:23:50 INFO mlflow.store.model_registry.abstract_store: Waiting up to 300 seconds for model version to finish creation. Model name: Cutoff_best_value, version 1\n",
      "Created version '1' of model 'Cutoff_best_value'.\n"
     ]
    },
    {
     "name": "stdout",
     "output_type": "stream",
     "text": [
      "Cutoff: 0.1, Business Cost: 24920\n",
      "Cutoff: 0.2, Business Cost: 29296\n",
      "Cutoff: 0.3, Business Cost: 33359\n",
      "Cutoff: 0.4, Business Cost: 35524\n",
      "Cutoff: 0.5, Business Cost: 36878\n"
     ]
    },
    {
     "name": "stderr",
     "output_type": "stream",
     "text": [
      "2024/10/09 17:23:50 INFO mlflow.tracking._tracking_service.client: 🏃 View run bald-moose-805 at: http://127.0.0.1:8080/#/experiments/323614875043085141/runs/5a53baca2d8b4320a575a47259b394e5.\n",
      "2024/10/09 17:23:50 INFO mlflow.tracking._tracking_service.client: 🧪 View experiment at: http://127.0.0.1:8080/#/experiments/323614875043085141.\n"
     ]
    },
    {
     "name": "stdout",
     "output_type": "stream",
     "text": [
      "Cutoff: 0.6, Business Cost: 37405\n",
      "Cutoff: 0.7, Business Cost: 37632\n",
      "Cutoff: 0.8, Business Cost: 37640\n",
      "Cutoff: 0.9, Business Cost: 37650\n"
     ]
    }
   ],
   "source": [
    "# Initialiser une expérience MLflow\n",
    "mlflow.set_experiment(\"Best_cutoff\")\n",
    "\n",
    "# Définir les hyperparamètres du modèle\n",
    "param_V0 = {\n",
    "    'n_estimators': 300,\n",
    "    'num_leaves': 15,\n",
    "    'colsample_bytree': 0.8,\n",
    "    'subsample': 0.8,\n",
    "    'max_depth': 7,\n",
    "    'reg_alpha': 0.1,\n",
    "    'reg_lambda': 0.1,\n",
    "    'min_split_gain': 0.01\n",
    "}\n",
    "\n",
    "# Initialiser le modèle LightGBM\n",
    "clf = LGBMClassifier(**param_V0)\n",
    "\n",
    "# Entraîner le modèle\n",
    "clf.fit(x_train, y_train, eval_set=[(x_valid, y_valid)], eval_metric='auc')\n",
    "\n",
    "# Obtenir les probabilités prédictives\n",
    "y_proba = clf.predict_proba(x_valid)[:, 1]  # Probabilités pour la classe positive\n",
    "\n",
    "# Liste des différents cutoffs à tester\n",
    "cutoffs = np.arange(0.1, 1.0, 0.1)  # Par exemple, tester les cutoffs de 0.1 à 0.9\n",
    "\n",
    "# Démarrer un nouveau run dans MLflow\n",
    "with mlflow.start_run():\n",
    "\n",
    "    # Enregistrer le modèle\n",
    "    mlflow.sklearn.log_model(clf, \"LGBMClassifier\", registered_model_name=\"Cutoff_best_value\")\n",
    "\n",
    "    # Tester différents cutoffs\n",
    "    for cutoff in cutoffs:\n",
    "\n",
    "        # Prédictions sur le jeu de validation\n",
    "        y_pred = (y_proba >= cutoff).astype(int)\n",
    "\n",
    "        # Calculer la matrice de confusion pour voir les FP et FN\n",
    "        conf_matrix = confusion_matrix(y_valid, y_pred)\n",
    "        tn, fp, fn, tp = conf_matrix.ravel()\n",
    "        \n",
    "        # Calculer le score métier\n",
    "        # Pondération des erreurs : FN est 10 fois plus coûteux qu'un FP\n",
    "        cost_fp = 1\n",
    "        cost_fn = 10\n",
    "        business_cost = cost_fp * fp + cost_fn * fn\n",
    "\n",
    "        # Enregistrer la matrice de confusion et le coût dans MLflow\n",
    "        with open(f\"confusion_matrix_cutoff_{cutoff:.1f}.txt\", \"w\") as f:\n",
    "            f.write(str(conf_matrix))\n",
    "        mlflow.log_artifact(f\"confusion_matrix_cutoff_{cutoff:.1f}.txt\")\n",
    "        \n",
    "        # Enregistrer le coût et le cutoff dans MLflow\n",
    "        mlflow.log_metric(f\"business_cost_cutoff_{cutoff:.1f}\", business_cost)\n",
    "\n",
    "        # Afficher le résultat pour chaque cutoff\n",
    "        print(f\"Cutoff: {cutoff:.1f}, Business Cost: {business_cost}\")\n",
    "\n",
    "    # Enregistrer les hyperparamètres dans MLflow\n",
    "    mlflow.log_params(param_V0)"
   ]
  },
  {
   "cell_type": "code",
   "execution_count": 10,
   "id": "0da557b7",
   "metadata": {
    "ExecuteTime": {
     "end_time": "2024-10-09T15:24:30.316791Z",
     "start_time": "2024-10-09T15:24:18.746548Z"
    },
    "hidden": true
   },
   "outputs": [
    {
     "name": "stdout",
     "output_type": "stream",
     "text": [
      "[LightGBM] [Info] Number of positive: 21060, number of negative: 240320\n",
      "[LightGBM] [Info] Auto-choosing row-wise multi-threading, the overhead of testing was 0.054882 seconds.\n",
      "You can set `force_row_wise=true` to remove the overhead.\n",
      "And if memory is not enough, you can set `force_col_wise=true`.\n",
      "[LightGBM] [Info] Total Bins 12876\n",
      "[LightGBM] [Info] Number of data points in the train set: 261380, number of used features: 241\n",
      "[LightGBM] [Info] [binary:BoostFromScore]: pavg=0.080572 -> initscore=-2.434596\n",
      "[LightGBM] [Info] Start training from score -2.434596\n"
     ]
    },
    {
     "name": "stderr",
     "output_type": "stream",
     "text": [
      "2024/10/09 17:24:28 WARNING mlflow.models.model: Model logged without a signature and input example. Please set `input_example` parameter when logging the model to auto infer the model signature.\n",
      "Registered model 'Cutoff_best_value' already exists. Creating a new version of this model...\n",
      "2024/10/09 17:24:28 INFO mlflow.store.model_registry.abstract_store: Waiting up to 300 seconds for model version to finish creation. Model name: Cutoff_best_value, version 2\n",
      "Created version '2' of model 'Cutoff_best_value'.\n"
     ]
    },
    {
     "name": "stdout",
     "output_type": "stream",
     "text": [
      "Cutoff: 0.00, Business Cost: 42362\n",
      "Cutoff: 0.01, Business Cost: 41624\n",
      "Cutoff: 0.02, Business Cost: 37404\n",
      "Cutoff: 0.03, Business Cost: 32418\n",
      "Cutoff: 0.04, Business Cost: 28996\n",
      "Cutoff: 0.05, Business Cost: 27110\n",
      "Cutoff: 0.06, Business Cost: 25849\n",
      "Cutoff: 0.07, Business Cost: 25191\n",
      "Cutoff: 0.08, Business Cost: 24748\n",
      "Cutoff: 0.09, Business Cost: 24648\n",
      "Cutoff: 0.10, Business Cost: 24920\n",
      "Cutoff: 0.11, Business Cost: 25334\n",
      "Cutoff: 0.12, Business Cost: 25607\n",
      "Cutoff: 0.13, Business Cost: 25965\n",
      "Cutoff: 0.14, Business Cost: 26574\n",
      "Cutoff: 0.15, Business Cost: 27088\n",
      "Cutoff: 0.16, Business Cost: 27473\n",
      "Cutoff: 0.17, Business Cost: 27668\n",
      "Cutoff: 0.18, Business Cost: 28283\n",
      "Cutoff: 0.19, Business Cost: 28867\n"
     ]
    },
    {
     "name": "stderr",
     "output_type": "stream",
     "text": [
      "2024/10/09 17:24:29 INFO mlflow.tracking._tracking_service.client: 🏃 View run colorful-whale-680 at: http://127.0.0.1:8080/#/experiments/323614875043085141/runs/0b4f3531e8774472abc5d9bf0c81eac7.\n",
      "2024/10/09 17:24:29 INFO mlflow.tracking._tracking_service.client: 🧪 View experiment at: http://127.0.0.1:8080/#/experiments/323614875043085141.\n"
     ]
    },
    {
     "data": {
      "image/png": "[encoded data removed]",
      "text/plain": [
       "<Figure size 1000x600 with 1 Axes>"
      ]
     },
     "metadata": {},
     "output_type": "display_data"
    }
   ],
   "source": [
    "# Initialiser une expérience MLflow\n",
    "#mlflow.set_experiment(\"LGBMClassifier_with_business_score\")\n",
    "\n",
    "# Définir les hyperparamètres du modèle\n",
    "param_V0 = {\n",
    "    'n_estimators': 300,\n",
    "    'num_leaves': 15,\n",
    "    'colsample_bytree': 0.8,\n",
    "    'subsample': 0.8,\n",
    "    'max_depth': 7,\n",
    "    'reg_alpha': 0.1,\n",
    "    'reg_lambda': 0.1,\n",
    "    'min_split_gain': 0.01\n",
    "}\n",
    "\n",
    "# Initialiser le modèle LightGBM\n",
    "clf = LGBMClassifier(**param_V0)\n",
    "\n",
    "# Entraîner le modèle\n",
    "clf.fit(x_train, y_train, eval_set=[(x_valid, y_valid)], eval_metric='auc')\n",
    "\n",
    "# Obtenir les probabilités prédictives\n",
    "y_proba = clf.predict_proba(x_valid)[:, 1]  # Probabilités pour la classe positive\n",
    "\n",
    "# Liste des différents cutoffs à tester\n",
    "cutoffs = np.arange(0, 0.2, 0.01)  # Par exemple, tester les cutoffs de 0.1 à 0.9\n",
    "\n",
    "# Stocker les résultats de coût métier pour chaque cutoff\n",
    "costs = []\n",
    "\n",
    "# Démarrer un nouveau run dans MLflow\n",
    "with mlflow.start_run():\n",
    "\n",
    "    # Enregistrer le modèle\n",
    "    mlflow.sklearn.log_model(clf, \"LGBMClassifier\", registered_model_name=\"Cutoff_best_value\")\n",
    "\n",
    "    # Tester différents cutoffs\n",
    "    for cutoff in cutoffs:\n",
    "\n",
    "        # Prédictions sur le jeu de validation\n",
    "        y_pred = (y_proba >= cutoff).astype(int)\n",
    "\n",
    "        # Calculer la matrice de confusion pour voir les FP et FN\n",
    "        conf_matrix = confusion_matrix(y_valid, y_pred)\n",
    "        tn, fp, fn, tp = conf_matrix.ravel()\n",
    "        \n",
    "        # Calculer le score métier\n",
    "        # Pondération des erreurs : FN est 10 fois plus coûteux qu'un FP\n",
    "        cost_fp = 1\n",
    "        cost_fn = 10\n",
    "        business_cost = cost_fp * fp + cost_fn * fn\n",
    "        costs.append(business_cost)\n",
    "\n",
    "        # Enregistrer la matrice de confusion et le coût dans MLflow\n",
    "        with open(f\"confusion_matrix_cutoff_{cutoff:.2f}.txt\", \"w\") as f:\n",
    "            f.write(str(conf_matrix))\n",
    "        mlflow.log_artifact(f\"confusion_matrix_cutoff_{cutoff:.2f}.txt\")\n",
    "        \n",
    "        # Enregistrer le coût et le cutoff dans MLflow\n",
    "        mlflow.log_metric(f\"business_cost_cutoff_{cutoff:.2f}\", business_cost)\n",
    "\n",
    "        # Afficher le résultat pour chaque cutoff\n",
    "        print(f\"Cutoff: {cutoff:.2f}, Business Cost: {business_cost}\")\n",
    "\n",
    "    # Enregistrer les hyperparamètres dans MLflow\n",
    "    mlflow.log_params(param_V0)\n",
    "    \n",
    "# Afficher les résultats sous forme de graphique\n",
    "plt.figure(figsize=(10, 6))\n",
    "plt.plot(cutoffs, costs, marker='o', linestyle='-', color='b')\n",
    "plt.title(\"Business Cost en fonction du cutoff\")\n",
    "plt.xlabel(\"Cutoff\")\n",
    "plt.ylabel(\"Business Cost\")\n",
    "plt.grid(True)\n",
    "plt.show()"
   ]
  },
  {
   "cell_type": "markdown",
   "id": "0a3d82f1",
   "metadata": {
    "heading_collapsed": true
   },
   "source": [
    "### Avec stratification"
   ]
  },
  {
   "cell_type": "code",
   "execution_count": 11,
   "id": "81f1db01",
   "metadata": {
    "ExecuteTime": {
     "end_time": "2024-10-09T15:24:42.268053Z",
     "start_time": "2024-10-09T15:24:30.319784Z"
    },
    "hidden": true
   },
   "outputs": [
    {
     "name": "stderr",
     "output_type": "stream",
     "text": [
      "2024/10/09 17:24:30 INFO mlflow.tracking.fluent: Experiment with name 'LGBMClassifier_with_business_score_and_stratify' does not exist. Creating a new experiment.\n"
     ]
    },
    {
     "name": "stdout",
     "output_type": "stream",
     "text": [
      "[LightGBM] [Info] Number of positive: 21101, number of negative: 240279\n",
      "[LightGBM] [Info] Auto-choosing row-wise multi-threading, the overhead of testing was 0.048194 seconds.\n",
      "You can set `force_row_wise=true` to remove the overhead.\n",
      "And if memory is not enough, you can set `force_col_wise=true`.\n",
      "[LightGBM] [Info] Total Bins 12893\n",
      "[LightGBM] [Info] Number of data points in the train set: 261380, number of used features: 243\n",
      "[LightGBM] [Info] [binary:BoostFromScore]: pavg=0.080729 -> initscore=-2.432480\n",
      "[LightGBM] [Info] Start training from score -2.432480\n"
     ]
    },
    {
     "name": "stderr",
     "output_type": "stream",
     "text": [
      "2024/10/09 17:24:40 WARNING mlflow.models.model: Model logged without a signature and input example. Please set `input_example` parameter when logging the model to auto infer the model signature.\n",
      "Successfully registered model 'V0_business_score_CO_09'.\n",
      "2024/10/09 17:24:40 INFO mlflow.store.model_registry.abstract_store: Waiting up to 300 seconds for model version to finish creation. Model name: V0_business_score_CO_09, version 1\n",
      "Created version '1' of model 'V0_business_score_CO_09'.\n"
     ]
    },
    {
     "name": "stdout",
     "output_type": "stream",
     "text": [
      "Cutoff: 0.00, Business Cost: 42403\n",
      "Cutoff: 0.01, Business Cost: 41649\n",
      "Cutoff: 0.02, Business Cost: 37301\n",
      "Cutoff: 0.03, Business Cost: 32524\n",
      "Cutoff: 0.04, Business Cost: 28960\n",
      "Cutoff: 0.05, Business Cost: 26626\n",
      "Cutoff: 0.06, Business Cost: 25429\n",
      "Cutoff: 0.07, Business Cost: 24684\n",
      "Cutoff: 0.08, Business Cost: 24342\n",
      "Cutoff: 0.09, Business Cost: 24238\n",
      "Cutoff: 0.10, Business Cost: 24252\n",
      "Cutoff: 0.11, Business Cost: 24565\n",
      "Cutoff: 0.12, Business Cost: 25100\n",
      "Cutoff: 0.13, Business Cost: 25393\n",
      "Cutoff: 0.14, Business Cost: 25914\n",
      "Cutoff: 0.15, Business Cost: 26469\n",
      "Cutoff: 0.16, Business Cost: 26896\n"
     ]
    },
    {
     "name": "stderr",
     "output_type": "stream",
     "text": [
      "2024/10/09 17:24:42 INFO mlflow.tracking._tracking_service.client: 🏃 View run gaudy-moose-58 at: http://127.0.0.1:8080/#/experiments/834080143030066055/runs/98dc3f771f804b77aa3ccd19c24fa3ec.\n",
      "2024/10/09 17:24:42 INFO mlflow.tracking._tracking_service.client: 🧪 View experiment at: http://127.0.0.1:8080/#/experiments/834080143030066055.\n"
     ]
    },
    {
     "name": "stdout",
     "output_type": "stream",
     "text": [
      "Cutoff: 0.17, Business Cost: 27205\n",
      "Cutoff: 0.18, Business Cost: 27654\n",
      "Cutoff: 0.19, Business Cost: 28073\n"
     ]
    },
    {
     "data": {
      "image/png": "[encoded data removed]",
      "text/plain": [
       "<Figure size 1000x600 with 1 Axes>"
      ]
     },
     "metadata": {},
     "output_type": "display_data"
    }
   ],
   "source": [
    "# Initialiser une expérience MLflow\n",
    "mlflow.set_experiment(\"LGBMClassifier_with_business_score_and_stratify\")\n",
    "\n",
    "# Initialiser le modèle LightGBM\n",
    "clf = LGBMClassifier(**param_V0)\n",
    "\n",
    "# Entraîner le modèle\n",
    "clf.fit(x_train_strat, y_train_strat, eval_set=[(x_valid_strat, y_valid_strat)], eval_metric='auc')\n",
    "\n",
    "# Obtenir les probabilités prédictives\n",
    "y_proba = clf.predict_proba(x_valid_strat)[:, 1]  # Probabilités pour la classe positive\n",
    "\n",
    "# Liste des différents cutoffs à tester\n",
    "cutoffs = np.arange(0, 0.2, 0.01)  # Par exemple, tester les cutoffs de 0.1 à 0.9\n",
    "\n",
    "# Stocker les résultats de coût métier pour chaque cutoff\n",
    "costs = []\n",
    "\n",
    "# Démarrer un nouveau run dans MLflow\n",
    "with mlflow.start_run():\n",
    "\n",
    "    # Enregistrer le modèle\n",
    "    mlflow.sklearn.log_model(clf, \"LGBMClassifier\", registered_model_name=\"V0_business_score_CO_09\")\n",
    "\n",
    "    # Tester différents cutoffs\n",
    "    for cutoff in cutoffs:\n",
    "\n",
    "        # Prédictions sur le jeu de validation\n",
    "        y_pred = (y_proba >= cutoff).astype(int)\n",
    "\n",
    "        # Calculer la matrice de confusion pour voir les FP et FN\n",
    "        conf_matrix = confusion_matrix(y_valid_strat, y_pred)\n",
    "        tn, fp, fn, tp = conf_matrix.ravel()\n",
    "        \n",
    "        # Calculer le score métier\n",
    "        # Pondération des erreurs : FN est 10 fois plus coûteux qu'un FP\n",
    "        cost_fp = 1\n",
    "        cost_fn = 10\n",
    "        business_cost = cost_fp * fp + cost_fn * fn\n",
    "        costs.append(business_cost)\n",
    "\n",
    "        # Enregistrer la matrice de confusion et le coût dans MLflow\n",
    "        with open(f\"confusion_matrix_cutoff_{cutoff:.2f}.txt\", \"w\") as f:\n",
    "            f.write(str(conf_matrix))\n",
    "        mlflow.log_artifact(f\"confusion_matrix_cutoff_{cutoff:.2f}.txt\")\n",
    "        \n",
    "        # Enregistrer le coût et le cutoff dans MLflow\n",
    "        mlflow.log_metric(f\"business_cost_cutoff_{cutoff:.2f}\", business_cost)\n",
    "\n",
    "        # Afficher le résultat pour chaque cutoff\n",
    "        print(f\"Cutoff: {cutoff:.2f}, Business Cost: {business_cost}\")\n",
    "\n",
    "    # Enregistrer les hyperparamètres dans MLflow\n",
    "    mlflow.log_params(param_V0)\n",
    "    \n",
    "# Afficher les résultats sous forme de graphique\n",
    "plt.figure(figsize=(10, 6))\n",
    "plt.plot(cutoffs, costs, marker='o', linestyle='-', color='b')\n",
    "plt.title(\"Business Cost en fonction du cutoff\")\n",
    "plt.xlabel(\"Cutoff\")\n",
    "plt.ylabel(\"Business Cost\")\n",
    "plt.grid(True)\n",
    "plt.show()"
   ]
  },
  {
   "cell_type": "markdown",
   "id": "a3ae64b3",
   "metadata": {
    "heading_collapsed": true
   },
   "source": [
    "## Modelisation"
   ]
  },
  {
   "cell_type": "code",
   "execution_count": 12,
   "id": "fe3531ad",
   "metadata": {
    "ExecuteTime": {
     "end_time": "2024-10-09T15:24:42.346893Z",
     "start_time": "2024-10-09T15:24:42.271045Z"
    },
    "hidden": true
   },
   "outputs": [
    {
     "name": "stderr",
     "output_type": "stream",
     "text": [
      "2024/10/09 17:24:42 INFO mlflow.tracking.fluent: Experiment with name 'Customer-default-prediction' does not exist. Creating a new experiment.\n"
     ]
    }
   ],
   "source": [
    "# Initialiser expérience MLflow\n",
    "mlflow.set_experiment(\"Customer-default-prediction\")\n",
    "\n",
    "# On initialise la valeur du cutoff au taux de défaut naturel du dataset\n",
    "cutoff = 0.081"
   ]
  },
  {
   "cell_type": "markdown",
   "id": "e0c33d55",
   "metadata": {
    "heading_collapsed": true,
    "hidden": true
   },
   "source": [
    "### Baseline"
   ]
  },
  {
   "cell_type": "code",
   "execution_count": 13,
   "id": "c8b4c8e6",
   "metadata": {
    "ExecuteTime": {
     "end_time": "2024-10-09T15:24:46.601345Z",
     "start_time": "2024-10-09T15:24:43.341270Z"
    },
    "hidden": true,
    "scrolled": false
   },
   "outputs": [
    {
     "name": "stderr",
     "output_type": "stream",
     "text": [
      "2024/10/09 17:24:46 WARNING mlflow.models.model: Model logged without a signature and input example. Please set `input_example` parameter when logging the model to auto infer the model signature.\n",
      "Successfully registered model 'Stratified Dummy Classifier'.\n",
      "2024/10/09 17:24:46 INFO mlflow.store.model_registry.abstract_store: Waiting up to 300 seconds for model version to finish creation. Model name: Stratified Dummy Classifier, version 1\n",
      "Created version '1' of model 'Stratified Dummy Classifier'.\n",
      "2024/10/09 17:24:46 INFO mlflow.tracking._tracking_service.client: 🏃 View run Baseline at: http://127.0.0.1:8080/#/experiments/117274172334453328/runs/3de99833967244d5a1a5f648bfaecfb8.\n",
      "2024/10/09 17:24:46 INFO mlflow.tracking._tracking_service.client: 🧪 View experiment at: http://127.0.0.1:8080/#/experiments/117274172334453328.\n"
     ]
    }
   ],
   "source": [
    "# Créer et entraîner un modèle de baseline avec DummyClassifier\n",
    "dummy_clf = DummyClassifier(strategy=\"stratified\")\n",
    "dummy_clf.fit(x_train, y_train)\n",
    "\n",
    "# Faire des prédictions sur les données d'entraînement\n",
    "y_proba = dummy_clf.predict_proba(x_valid)[:, 1]\n",
    "y_pred = (y_proba >= cutoff).astype(int)\n",
    "\n",
    "# Calculer les métriques\n",
    "accuracy = accuracy_score(y_valid, y_pred)\n",
    "recall = recall_score(y_valid, y_pred)\n",
    "precision = precision_score(y_valid, y_pred)\n",
    "f1 = f1_score(y_valid, y_pred)\n",
    "fbeta = fbeta_score(y_valid, y_pred, beta=10)\n",
    "roc_auc = roc_auc_score(y_valid, y_proba)\n",
    "conf_matrix = confusion_matrix(y_valid, y_pred)\n",
    "\n",
    "# Démarrer un nouveau run dans MLflow\n",
    "with mlflow.start_run(run_name=\"Baseline\"):\n",
    "    \n",
    "    # Enregistrer le modèle DummyClassifier\n",
    "    mlflow.sklearn.log_model(dummy_clf, \"dummy_classifier\", registered_model_name=\"Stratified Dummy Classifier\")\n",
    "\n",
    "    # Enregistrer les métriques dans MLflow\n",
    "    mlflow.log_metric(\"Accuracy\", accuracy)\n",
    "    mlflow.log_metric(\"Recall\", recall)\n",
    "    mlflow.log_metric(\"Precision\", precision)\n",
    "    mlflow.log_metric(\"F1 Score\", f1)\n",
    "    mlflow.log_metric(\"F10 Score\", fbeta)\n",
    "    mlflow.log_metric(\"ROC AUC\", roc_auc)\n",
    "\n",
    "    # Enregistrer la matrice de confusion comme artefact\n",
    "    with open(\"confusion_matrix.txt\", \"w\") as f:\n",
    "        f.write(str(conf_matrix))\n",
    "    mlflow.log_artifact(\"confusion_matrix.txt\")\n",
    "\n",
    "    # Enregistrer la stratégie utilisée pour DummyClassifier comme paramètre\n",
    "    mlflow.log_param(\"strategy\", \"stratified\")"
   ]
  },
  {
   "cell_type": "markdown",
   "id": "a5265949",
   "metadata": {
    "heading_collapsed": true,
    "hidden": true
   },
   "source": [
    "### Logistic Regression"
   ]
  },
  {
   "cell_type": "code",
   "execution_count": 33,
   "id": "ea78d214",
   "metadata": {
    "ExecuteTime": {
     "end_time": "2024-09-27T08:52:19.570754Z",
     "start_time": "2024-09-27T08:52:19.551704Z"
    },
    "hidden": true
   },
   "outputs": [],
   "source": [
    "# Paramètres pour la recherche en grille\n",
    "param_grid = {\n",
    "    'penalty': ['l1', 'l2', 'elasticnet', 'none'],  # Différents types de pénalités\n",
    "    'C': [0.01, 0.1, 1, 10],                       # Différentes valeurs pour la régularisation inverse\n",
    "    'solver': ['liblinear', 'saga', 'lbfgs'],       # Solvers disponibles pour la régression logistique\n",
    "}\n",
    "\n",
    "# Créer un F-beta scorer avec beta = 10\n",
    "f10_scorer = make_scorer(fbeta_score, beta=10)"
   ]
  },
  {
   "cell_type": "code",
   "execution_count": 42,
   "id": "decd1703",
   "metadata": {
    "ExecuteTime": {
     "end_time": "2024-09-27T09:36:52.150455Z",
     "start_time": "2024-09-27T08:57:34.095125Z"
    },
    "hidden": true
   },
   "outputs": [
    {
     "name": "stderr",
     "output_type": "stream",
     "text": [
      "C:\\Users\\steph\\anaconda3\\envs\\projet7\\lib\\site-packages\\sklearn\\model_selection\\_validation.py:425: FitFailedWarning: \n",
      "100 fits failed out of a total of 240.\n",
      "The score on these train-test partitions for these parameters will be set to nan.\n",
      "If these failures are not expected, you can try to debug them by setting error_score='raise'.\n",
      "\n",
      "Below are more details about the failures:\n",
      "--------------------------------------------------------------------------------\n",
      "20 fits failed with the following error:\n",
      "Traceback (most recent call last):\n",
      "  File \"C:\\Users\\steph\\anaconda3\\envs\\projet7\\lib\\site-packages\\sklearn\\model_selection\\_validation.py\", line 732, in _fit_and_score\n",
      "    estimator.fit(X_train, y_train, **fit_params)\n",
      "  File \"C:\\Users\\steph\\anaconda3\\envs\\projet7\\lib\\site-packages\\sklearn\\base.py\", line 1151, in wrapper\n",
      "    return fit_method(estimator, *args, **kwargs)\n",
      "  File \"C:\\Users\\steph\\anaconda3\\envs\\projet7\\lib\\site-packages\\sklearn\\linear_model\\_logistic.py\", line 1168, in fit\n",
      "    solver = _check_solver(self.solver, self.penalty, self.dual)\n",
      "  File \"C:\\Users\\steph\\anaconda3\\envs\\projet7\\lib\\site-packages\\sklearn\\linear_model\\_logistic.py\", line 56, in _check_solver\n",
      "    raise ValueError(\n",
      "ValueError: Solver lbfgs supports only 'l2' or 'none' penalties, got l1 penalty.\n",
      "\n",
      "--------------------------------------------------------------------------------\n",
      "20 fits failed with the following error:\n",
      "Traceback (most recent call last):\n",
      "  File \"C:\\Users\\steph\\anaconda3\\envs\\projet7\\lib\\site-packages\\sklearn\\model_selection\\_validation.py\", line 732, in _fit_and_score\n",
      "    estimator.fit(X_train, y_train, **fit_params)\n",
      "  File \"C:\\Users\\steph\\anaconda3\\envs\\projet7\\lib\\site-packages\\sklearn\\base.py\", line 1151, in wrapper\n",
      "    return fit_method(estimator, *args, **kwargs)\n",
      "  File \"C:\\Users\\steph\\anaconda3\\envs\\projet7\\lib\\site-packages\\sklearn\\linear_model\\_logistic.py\", line 1168, in fit\n",
      "    solver = _check_solver(self.solver, self.penalty, self.dual)\n",
      "  File \"C:\\Users\\steph\\anaconda3\\envs\\projet7\\lib\\site-packages\\sklearn\\linear_model\\_logistic.py\", line 66, in _check_solver\n",
      "    raise ValueError(\n",
      "ValueError: Only 'saga' solver supports elasticnet penalty, got solver=liblinear.\n",
      "\n",
      "--------------------------------------------------------------------------------\n",
      "20 fits failed with the following error:\n",
      "Traceback (most recent call last):\n",
      "  File \"C:\\Users\\steph\\anaconda3\\envs\\projet7\\lib\\site-packages\\sklearn\\model_selection\\_validation.py\", line 732, in _fit_and_score\n",
      "    estimator.fit(X_train, y_train, **fit_params)\n",
      "  File \"C:\\Users\\steph\\anaconda3\\envs\\projet7\\lib\\site-packages\\sklearn\\base.py\", line 1151, in wrapper\n",
      "    return fit_method(estimator, *args, **kwargs)\n",
      "  File \"C:\\Users\\steph\\anaconda3\\envs\\projet7\\lib\\site-packages\\sklearn\\linear_model\\_logistic.py\", line 1178, in fit\n",
      "    raise ValueError(\"l1_ratio must be specified when penalty is elasticnet.\")\n",
      "ValueError: l1_ratio must be specified when penalty is elasticnet.\n",
      "\n",
      "--------------------------------------------------------------------------------\n",
      "20 fits failed with the following error:\n",
      "Traceback (most recent call last):\n",
      "  File \"C:\\Users\\steph\\anaconda3\\envs\\projet7\\lib\\site-packages\\sklearn\\model_selection\\_validation.py\", line 732, in _fit_and_score\n",
      "    estimator.fit(X_train, y_train, **fit_params)\n",
      "  File \"C:\\Users\\steph\\anaconda3\\envs\\projet7\\lib\\site-packages\\sklearn\\base.py\", line 1151, in wrapper\n",
      "    return fit_method(estimator, *args, **kwargs)\n",
      "  File \"C:\\Users\\steph\\anaconda3\\envs\\projet7\\lib\\site-packages\\sklearn\\linear_model\\_logistic.py\", line 1168, in fit\n",
      "    solver = _check_solver(self.solver, self.penalty, self.dual)\n",
      "  File \"C:\\Users\\steph\\anaconda3\\envs\\projet7\\lib\\site-packages\\sklearn\\linear_model\\_logistic.py\", line 56, in _check_solver\n",
      "    raise ValueError(\n",
      "ValueError: Solver lbfgs supports only 'l2' or 'none' penalties, got elasticnet penalty.\n",
      "\n",
      "--------------------------------------------------------------------------------\n",
      "20 fits failed with the following error:\n",
      "Traceback (most recent call last):\n",
      "  File \"C:\\Users\\steph\\anaconda3\\envs\\projet7\\lib\\site-packages\\sklearn\\model_selection\\_validation.py\", line 732, in _fit_and_score\n",
      "    estimator.fit(X_train, y_train, **fit_params)\n",
      "  File \"C:\\Users\\steph\\anaconda3\\envs\\projet7\\lib\\site-packages\\sklearn\\base.py\", line 1151, in wrapper\n",
      "    return fit_method(estimator, *args, **kwargs)\n",
      "  File \"C:\\Users\\steph\\anaconda3\\envs\\projet7\\lib\\site-packages\\sklearn\\linear_model\\_logistic.py\", line 1168, in fit\n",
      "    solver = _check_solver(self.solver, self.penalty, self.dual)\n",
      "  File \"C:\\Users\\steph\\anaconda3\\envs\\projet7\\lib\\site-packages\\sklearn\\linear_model\\_logistic.py\", line 73, in _check_solver\n",
      "    raise ValueError(\"penalty='none' is not supported for the liblinear solver\")\n",
      "ValueError: penalty='none' is not supported for the liblinear solver\n",
      "\n",
      "  warnings.warn(some_fits_failed_message, FitFailedWarning)\n",
      "C:\\Users\\steph\\anaconda3\\envs\\projet7\\lib\\site-packages\\sklearn\\model_selection\\_search.py:976: UserWarning: One or more of the test scores are non-finite: [0.00450764 0.                nan 0.         0.         0.\n",
      "        nan        nan        nan        nan 0.         0.\n",
      " 0.00930202 0.                nan 0.         0.         0.\n",
      "        nan        nan        nan        nan 0.         0.\n",
      " 0.01002101 0.                nan 0.         0.         0.\n",
      "        nan        nan        nan        nan 0.         0.\n",
      " 0.01074005 0.                nan 0.         0.         0.\n",
      "        nan        nan        nan        nan 0.         0.        ]\n",
      "  warnings.warn(\n",
      "2024/09/27 11:36:51 WARNING mlflow.models.model: Model logged without a signature and input example. Please set `input_example` parameter when logging the model to auto infer the model signature.\n",
      "Successfully registered model 'Best Logistic Regression'.\n",
      "2024/09/27 11:36:51 INFO mlflow.store.model_registry.abstract_store: Waiting up to 300 seconds for model version to finish creation. Model name: Best Logistic Regression, version 1\n",
      "Created version '1' of model 'Best Logistic Regression'.\n",
      "2024/09/27 11:36:52 INFO mlflow.tracking._tracking_service.client: 🏃 View run Logistic_Regression_GridSearch at: http://127.0.0.1:8080/#/experiments/788337420577209836/runs/6acb626fb68a466f96bf206c3487e03b.\n",
      "2024/09/27 11:36:52 INFO mlflow.tracking._tracking_service.client: 🧪 View experiment at: http://127.0.0.1:8080/#/experiments/788337420577209836.\n"
     ]
    }
   ],
   "source": [
    "# Créer et entraîner un modèle de baseline avec DummyClassifier\n",
    "LR = LogisticRegression()\n",
    "\n",
    "# Configuration de GridSearchCV\n",
    "grid_search = GridSearchCV(estimator=LR, param_grid=param_grid, scoring=f10_scorer, cv=5, n_jobs=-1)\n",
    "\n",
    "# Entraînement du modèle sur les données d'entraînement\n",
    "grid_search.fit(x_train, y_train)\n",
    "\n",
    "# Récupérer le meilleur modèle\n",
    "best_model = grid_search.best_estimator_\n",
    "\n",
    "# Faire des prédictions sur les données de validation\n",
    "y_proba = best_model.predict_proba(x_valid)[:, 1]\n",
    "y_pred = (y_proba >= cutoff).astype(int)\n",
    "\n",
    "# Calculer les métriques\n",
    "accuracy = accuracy_score(y_valid, y_pred)\n",
    "recall = recall_score(y_valid, y_pred)\n",
    "precision = precision_score(y_valid, y_pred)\n",
    "f1 = f1_score(y_valid, y_pred)\n",
    "fbeta = fbeta_score(y_valid, y_pred, beta=10)\n",
    "roc_auc = roc_auc_score(y_valid, y_proba)\n",
    "conf_matrix = confusion_matrix(y_valid, y_pred)\n",
    "\n",
    "# Démarrer un nouveau run dans MLflow\n",
    "with mlflow.start_run(run_name=\"Logistic_Regression_GridSearch\"):\n",
    "    \n",
    "    # Enregistrer le modèle DummyClassifier\n",
    "    mlflow.sklearn.log_model(dummy_clf, \"Logistic_Regression\", registered_model_name=\"Best Logistic Regression\")\n",
    "    \n",
    "    # Enregistrer les paramètres optimaux dans MLflow\n",
    "    mlflow.log_params(grid_search.best_params_)\n",
    "\n",
    "    # Enregistrer les métriques dans MLflow\n",
    "    mlflow.log_metric(\"Accuracy\", accuracy)\n",
    "    mlflow.log_metric(\"Recall\", recall)\n",
    "    mlflow.log_metric(\"Precision\", precision)\n",
    "    mlflow.log_metric(\"F1 Score\", f1)\n",
    "    mlflow.log_metric(\"F10 Score\", fbeta)\n",
    "    mlflow.log_metric(\"ROC AUC\", roc_auc)\n",
    "\n",
    "    # Enregistrer la matrice de confusion comme artefact\n",
    "    with open(\"confusion_matrix.txt\", \"w\") as f:\n",
    "        f.write(str(conf_matrix))\n",
    "    mlflow.log_artifact(\"confusion_matrix.txt\")\n",
    "\n",
    "    # Enregistrer les hyperparamètres utilisés par le modèle\n",
    "    for param, value in grid_search.best_params_.items():\n",
    "        mlflow.log_param(param, value)"
   ]
  },
  {
   "cell_type": "code",
   "execution_count": null,
   "id": "64aea1de",
   "metadata": {
    "hidden": true
   },
   "outputs": [],
   "source": [
    "# Afficher les résultats\n",
    "print(f\"Best Parameters: {grid_search.best_params_}\")\n",
    "print(f\"Accuracy: {accuracy:.4f}\")\n",
    "print(f\"Recall: {recall:.4f}\")\n",
    "print(f\"Precision: {precision:.4f}\")\n",
    "print(f\"F1 Score: {f1:.4f}\")\n",
    "print(f\"F10 Score: {fbeta:.4f}\")\n",
    "print(f\"ROC AUC: {roc_auc:.4f}\")\n",
    "print(\"Confusion Matrix:\\n\", conf_matrix)"
   ]
  },
  {
   "cell_type": "markdown",
   "id": "cba48d41",
   "metadata": {
    "heading_collapsed": true,
    "hidden": true
   },
   "source": [
    "### XGBoost"
   ]
  },
  {
   "cell_type": "code",
   "execution_count": 25,
   "id": "2c44be0a",
   "metadata": {
    "ExecuteTime": {
     "end_time": "2024-09-26T23:38:58.426618Z",
     "start_time": "2024-09-26T23:38:58.408642Z"
    },
    "hidden": true
   },
   "outputs": [],
   "source": [
    "# Définir les hyperparamètres à tester dans la recherche en grille\n",
    "param_grid_xg = {\n",
    "    'n_estimators': [50, 100, 200], \n",
    "    'learning_rate': [0.01, 0.05, 0.1, 0.2],\n",
    "    'max_depth': [5, 10, 15], \n",
    "    'colsample_bytree': [0.5, 0.7, 1.0],\n",
    "    'gamma': [0, 0.01, 0.1, 1]\n",
    "}"
   ]
  },
  {
   "cell_type": "code",
   "execution_count": 26,
   "id": "5e89e850",
   "metadata": {
    "ExecuteTime": {
     "end_time": "2024-09-27T07:57:49.584227Z",
     "start_time": "2024-09-26T23:40:19.858914Z"
    },
    "hidden": true
   },
   "outputs": [
    {
     "name": "stdout",
     "output_type": "stream",
     "text": [
      "Meilleurs hyperparamètres : {'colsample_bytree': 1.0, 'gamma': 0, 'learning_rate': 0.2, 'max_depth': 10, 'n_estimators': 200}\n"
     ]
    },
    {
     "name": "stderr",
     "output_type": "stream",
     "text": [
      "2024/09/27 09:57:49 WARNING mlflow.models.model: Model logged without a signature and input example. Please set `input_example` parameter when logging the model to auto infer the model signature.\n",
      "Successfully registered model 'XGboost'.\n",
      "2024/09/27 09:57:49 INFO mlflow.store.model_registry.abstract_store: Waiting up to 300 seconds for model version to finish creation. Model name: XGboost, version 1\n",
      "Created version '1' of model 'XGboost'.\n",
      "2024/09/27 09:57:49 INFO mlflow.tracking._tracking_service.client: 🏃 View run XGboost_Gridsearch at: http://127.0.0.1:8080/#/experiments/788337420577209836/runs/c3b46299f4fc422eb26b5e9189f31b5e.\n",
      "2024/09/27 09:57:49 INFO mlflow.tracking._tracking_service.client: 🧪 View experiment at: http://127.0.0.1:8080/#/experiments/788337420577209836.\n"
     ]
    }
   ],
   "source": [
    "# Initialiser le modèle de forêt aléatoire\n",
    "xgb_clf = XGBClassifier(missing=np.nan)\n",
    "\n",
    "# Configurer GridSearchCV avec la métrique choisie\n",
    "grid_search_xg = GridSearchCV(estimator=xgb_clf, param_grid=param_grid_xg, scoring=f10_scorer, cv=5, n_jobs=-1)\n",
    "\n",
    "# Entraîner le modèle avec GridSearchCV\n",
    "with mlflow.start_run(run_name=\"XGboost_Gridsearch\"):\n",
    "\n",
    "    # Ajuster le modèle sur les données d'entraînement\n",
    "    grid_search_xg.fit(x_train, y_train)\n",
    "\n",
    "    # Meilleurs hyperparamètres\n",
    "    best_params = grid_search_xg.best_params_\n",
    "    print(f\"Meilleurs hyperparamètres : {best_params}\")\n",
    "    \n",
    "    # Prédictions sur le jeu de validation\n",
    "    y_proba = grid_search_xg.predict_proba(x_valid)[:, 1]\n",
    "    y_pred = (y_proba >= cutoff).astype(int)\n",
    "\n",
    "    # Calcul des métriques\n",
    "    accuracy = accuracy_score(y_valid, y_pred)\n",
    "    recall = recall_score(y_valid, y_pred)\n",
    "    precision = precision_score(y_valid, y_pred)\n",
    "    f1 = f1_score(y_valid, y_pred)\n",
    "    fbeta = fbeta_score(y_valid, y_pred, beta=10)\n",
    "    roc_auc = roc_auc_score(y_valid, y_proba)\n",
    "    conf_matrix = confusion_matrix(y_valid, y_pred)\n",
    "\n",
    "    # Enregistrement du modèle dans MLflow\n",
    "    mlflow.sklearn.log_model(grid_search_xg.best_estimator_, \"XGboost\", registered_model_name=\"XGboost\")\n",
    "\n",
    "    # Enregistrer les hyperparamètres et les métriques dans MLflow\n",
    "    mlflow.log_params(best_params)\n",
    "    \n",
    "    # Enregistrer les métriques dans MLflow\n",
    "    mlflow.log_metric(\"Accuracy\", accuracy)\n",
    "    mlflow.log_metric(\"Recall\", recall)\n",
    "    mlflow.log_metric(\"Precision\", precision)\n",
    "    mlflow.log_metric(\"F1 Score\", f1)\n",
    "    mlflow.log_metric(\"F10 Score\", fbeta)\n",
    "    mlflow.log_metric(\"ROC AUC\", roc_auc)\n",
    "\n",
    "    # Enregistrer la matrice de confusion comme artefact\n",
    "    with open(\"confusion_matrix_rf.txt\", \"w\") as f:\n",
    "        f.write(str(conf_matrix))\n",
    "    mlflow.log_artifact(\"confusion_matrix_rf.txt\")"
   ]
  },
  {
   "cell_type": "code",
   "execution_count": null,
   "id": "574a15dd",
   "metadata": {
    "hidden": true
   },
   "outputs": [],
   "source": [
    "# Afficher les meilleurs hyperparamètres et la meilleure performance du modèle\n",
    "print(f\"Meilleurs hyperparamètres : {grid_search_rf.best_params_}\")\n",
    "print(f\"Meilleur score F10 : {grid_search_rf.best_score_}\")"
   ]
  },
  {
   "cell_type": "markdown",
   "id": "c01be7ce",
   "metadata": {
    "heading_collapsed": true,
    "hidden": true
   },
   "source": [
    "### LGBMclassifier"
   ]
  },
  {
   "cell_type": "code",
   "execution_count": 14,
   "id": "827be146",
   "metadata": {
    "ExecuteTime": {
     "end_time": "2024-10-09T15:29:40.945431Z",
     "start_time": "2024-10-09T15:25:15.304068Z"
    },
    "hidden": true,
    "scrolled": true
   },
   "outputs": [
    {
     "name": "stdout",
     "output_type": "stream",
     "text": [
      "|   iter    |  target   | colsam... | max_depth | min_sp... | n_esti... | num_le... | reg_alpha | reg_la... | subsample |\n",
      "-------------------------------------------------------------------------------------------------------------------------\n",
      "[LightGBM] [Info] Number of positive: 21101, number of negative: 240279\n",
      "[LightGBM] [Info] Auto-choosing row-wise multi-threading, the overhead of testing was 0.057772 seconds.\n",
      "You can set `force_row_wise=true` to remove the overhead.\n",
      "And if memory is not enough, you can set `force_col_wise=true`.\n",
      "[LightGBM] [Info] Total Bins 12893\n",
      "[LightGBM] [Info] Number of data points in the train set: 261380, number of used features: 243\n",
      "[LightGBM] [Info] [binary:BoostFromScore]: pavg=0.080729 -> initscore=-2.432480\n",
      "[LightGBM] [Info] Start training from score -2.432480\n",
      "Training until validation scores don't improve for 10 rounds\n",
      "Early stopping, best iteration is:\n",
      "[86]\tvalid_0's auc: 0.763162\tvalid_0's binary_logloss: 0.244639\n"
     ]
    },
    {
     "name": "stderr",
     "output_type": "stream",
     "text": [
      "2024/10/09 17:25:23 WARNING mlflow.models.model: Model logged without a signature and input example. Please set `input_example` parameter when logging the model to auto infer the model signature.\n",
      "Successfully registered model 'LightGBM BayesOpt - Hyperparameter Tuning'.\n",
      "2024/10/09 17:25:23 INFO mlflow.store.model_registry.abstract_store: Waiting up to 300 seconds for model version to finish creation. Model name: LightGBM BayesOpt - Hyperparameter Tuning, version 1\n",
      "Created version '1' of model 'LightGBM BayesOpt - Hyperparameter Tuning'.\n",
      "2024/10/09 17:25:24 INFO mlflow.tracking._tracking_service.client: 🏃 View run welcoming-sloth-974 at: http://127.0.0.1:8080/#/experiments/117274172334453328/runs/025ad7a5b63540ba982afea4ae872803.\n",
      "2024/10/09 17:25:24 INFO mlflow.tracking._tracking_service.client: 🧪 View experiment at: http://127.0.0.1:8080/#/experiments/117274172334453328.\n"
     ]
    },
    {
     "name": "stdout",
     "output_type": "stream",
     "text": [
      "| \u001b[0m1        \u001b[0m | \u001b[0m0.7632   \u001b[0m | \u001b[0m0.8238   \u001b[0m | \u001b[0m12.61    \u001b[0m | \u001b[0m0.05283  \u001b[0m | \u001b[0m906.7    \u001b[0m | \u001b[0m73.0     \u001b[0m | \u001b[0m0.7143   \u001b[0m | \u001b[0m0.7173   \u001b[0m | \u001b[0m0.6114   \u001b[0m |\n",
      "[LightGBM] [Info] Number of positive: 21101, number of negative: 240279\n",
      "[LightGBM] [Info] Auto-choosing row-wise multi-threading, the overhead of testing was 0.038984 seconds.\n",
      "You can set `force_row_wise=true` to remove the overhead.\n",
      "And if memory is not enough, you can set `force_col_wise=true`.\n",
      "[LightGBM] [Info] Total Bins 12893\n",
      "[LightGBM] [Info] Number of data points in the train set: 261380, number of used features: 243\n",
      "[LightGBM] [Info] [binary:BoostFromScore]: pavg=0.080729 -> initscore=-2.432480\n",
      "[LightGBM] [Info] Start training from score -2.432480\n",
      "Training until validation scores don't improve for 10 rounds\n",
      "Did not meet early stopping. Best iteration is:\n",
      "[108]\tvalid_0's auc: 0.762604\tvalid_0's binary_logloss: 0.244786\n"
     ]
    },
    {
     "name": "stderr",
     "output_type": "stream",
     "text": [
      "2024/10/09 17:25:32 WARNING mlflow.models.model: Model logged without a signature and input example. Please set `input_example` parameter when logging the model to auto infer the model signature.\n",
      "Registered model 'LightGBM BayesOpt - Hyperparameter Tuning' already exists. Creating a new version of this model...\n",
      "2024/10/09 17:25:32 INFO mlflow.store.model_registry.abstract_store: Waiting up to 300 seconds for model version to finish creation. Model name: LightGBM BayesOpt - Hyperparameter Tuning, version 2\n",
      "Created version '2' of model 'LightGBM BayesOpt - Hyperparameter Tuning'.\n",
      "2024/10/09 17:25:32 INFO mlflow.tracking._tracking_service.client: 🏃 View run welcoming-shad-964 at: http://127.0.0.1:8080/#/experiments/117274172334453328/runs/2c22896e33394ac1881000e533aa45eb.\n",
      "2024/10/09 17:25:32 INFO mlflow.tracking._tracking_service.client: 🧪 View experiment at: http://127.0.0.1:8080/#/experiments/117274172334453328.\n"
     ]
    },
    {
     "name": "stdout",
     "output_type": "stream",
     "text": [
      "| \u001b[0m2        \u001b[0m | \u001b[0m0.7626   \u001b[0m | \u001b[0m0.5876   \u001b[0m | \u001b[0m11.85    \u001b[0m | \u001b[0m0.09287  \u001b[0m | \u001b[0m108.9    \u001b[0m | \u001b[0m18.09    \u001b[0m | \u001b[0m0.8502   \u001b[0m | \u001b[0m0.4856   \u001b[0m | \u001b[0m0.9384   \u001b[0m |\n",
      "[LightGBM] [Info] Number of positive: 21101, number of negative: 240279\n",
      "[LightGBM] [Info] Auto-choosing col-wise multi-threading, the overhead of testing was 0.138858 seconds.\n",
      "You can set `force_col_wise=true` to remove the overhead.\n",
      "[LightGBM] [Info] Total Bins 12893\n",
      "[LightGBM] [Info] Number of data points in the train set: 261380, number of used features: 243\n",
      "[LightGBM] [Info] [binary:BoostFromScore]: pavg=0.080729 -> initscore=-2.432480\n",
      "[LightGBM] [Info] Start training from score -2.432480\n",
      "Training until validation scores don't improve for 10 rounds\n",
      "Early stopping, best iteration is:\n",
      "[99]\tvalid_0's auc: 0.763208\tvalid_0's binary_logloss: 0.244608\n"
     ]
    },
    {
     "name": "stderr",
     "output_type": "stream",
     "text": [
      "2024/10/09 17:25:41 WARNING mlflow.models.model: Model logged without a signature and input example. Please set `input_example` parameter when logging the model to auto infer the model signature.\n",
      "Registered model 'LightGBM BayesOpt - Hyperparameter Tuning' already exists. Creating a new version of this model...\n",
      "2024/10/09 17:25:41 INFO mlflow.store.model_registry.abstract_store: Waiting up to 300 seconds for model version to finish creation. Model name: LightGBM BayesOpt - Hyperparameter Tuning, version 3\n",
      "Created version '3' of model 'LightGBM BayesOpt - Hyperparameter Tuning'.\n",
      "2024/10/09 17:25:42 INFO mlflow.tracking._tracking_service.client: 🏃 View run silent-ape-0 at: http://127.0.0.1:8080/#/experiments/117274172334453328/runs/d5346a7a88624745adcec52b10e6b92f.\n",
      "2024/10/09 17:25:42 INFO mlflow.tracking._tracking_service.client: 🧪 View experiment at: http://127.0.0.1:8080/#/experiments/117274172334453328.\n"
     ]
    },
    {
     "name": "stdout",
     "output_type": "stream",
     "text": [
      "| \u001b[95m3        \u001b[0m | \u001b[95m0.7632   \u001b[0m | \u001b[95m0.6537   \u001b[0m | \u001b[95m10.82    \u001b[0m | \u001b[95m0.05814  \u001b[0m | \u001b[95m202.3    \u001b[0m | \u001b[95m79.11    \u001b[0m | \u001b[95m0.3126   \u001b[0m | \u001b[95m0.646    \u001b[0m | \u001b[95m0.5163   \u001b[0m |\n",
      "[LightGBM] [Info] Number of positive: 21101, number of negative: 240279\n",
      "[LightGBM] [Info] Auto-choosing col-wise multi-threading, the overhead of testing was 0.156784 seconds.\n",
      "You can set `force_col_wise=true` to remove the overhead.\n",
      "[LightGBM] [Info] Total Bins 12893\n",
      "[LightGBM] [Info] Number of data points in the train set: 261380, number of used features: 243\n",
      "[LightGBM] [Info] [binary:BoostFromScore]: pavg=0.080729 -> initscore=-2.432480\n",
      "[LightGBM] [Info] Start training from score -2.432480\n",
      "Training until validation scores don't improve for 10 rounds\n",
      "Early stopping, best iteration is:\n",
      "[81]\tvalid_0's auc: 0.763094\tvalid_0's binary_logloss: 0.24459\n"
     ]
    },
    {
     "name": "stderr",
     "output_type": "stream",
     "text": [
      "2024/10/09 17:25:51 WARNING mlflow.models.model: Model logged without a signature and input example. Please set `input_example` parameter when logging the model to auto infer the model signature.\n",
      "Registered model 'LightGBM BayesOpt - Hyperparameter Tuning' already exists. Creating a new version of this model...\n",
      "2024/10/09 17:25:51 INFO mlflow.store.model_registry.abstract_store: Waiting up to 300 seconds for model version to finish creation. Model name: LightGBM BayesOpt - Hyperparameter Tuning, version 4\n",
      "Created version '4' of model 'LightGBM BayesOpt - Hyperparameter Tuning'.\n",
      "2024/10/09 17:25:51 INFO mlflow.tracking._tracking_service.client: 🏃 View run delightful-frog-343 at: http://127.0.0.1:8080/#/experiments/117274172334453328/runs/0e086babe8eb4dd4b47677615a9c82b8.\n",
      "2024/10/09 17:25:51 INFO mlflow.tracking._tracking_service.client: 🧪 View experiment at: http://127.0.0.1:8080/#/experiments/117274172334453328.\n"
     ]
    },
    {
     "name": "stdout",
     "output_type": "stream",
     "text": [
      "| \u001b[0m4        \u001b[0m | \u001b[0m0.7631   \u001b[0m | \u001b[0m0.5832   \u001b[0m | \u001b[0m11.45    \u001b[0m | \u001b[0m0.02278  \u001b[0m | \u001b[0m969.7    \u001b[0m | \u001b[0m91.44    \u001b[0m | \u001b[0m0.8657   \u001b[0m | \u001b[0m0.03216  \u001b[0m | \u001b[0m0.8997   \u001b[0m |\n",
      "[LightGBM] [Info] Number of positive: 21101, number of negative: 240279\n",
      "[LightGBM] [Info] Auto-choosing row-wise multi-threading, the overhead of testing was 0.056847 seconds.\n",
      "You can set `force_row_wise=true` to remove the overhead.\n",
      "And if memory is not enough, you can set `force_col_wise=true`.\n",
      "[LightGBM] [Info] Total Bins 12893\n",
      "[LightGBM] [Info] Number of data points in the train set: 261380, number of used features: 243\n",
      "[LightGBM] [Info] [binary:BoostFromScore]: pavg=0.080729 -> initscore=-2.432480\n",
      "[LightGBM] [Info] Start training from score -2.432480\n",
      "Training until validation scores don't improve for 10 rounds\n",
      "Early stopping, best iteration is:\n",
      "[54]\tvalid_0's auc: 0.760513\tvalid_0's binary_logloss: 0.245397\n"
     ]
    },
    {
     "name": "stderr",
     "output_type": "stream",
     "text": [
      "2024/10/09 17:25:59 WARNING mlflow.models.model: Model logged without a signature and input example. Please set `input_example` parameter when logging the model to auto infer the model signature.\n",
      "Registered model 'LightGBM BayesOpt - Hyperparameter Tuning' already exists. Creating a new version of this model...\n",
      "2024/10/09 17:25:59 INFO mlflow.store.model_registry.abstract_store: Waiting up to 300 seconds for model version to finish creation. Model name: LightGBM BayesOpt - Hyperparameter Tuning, version 5\n",
      "Created version '5' of model 'LightGBM BayesOpt - Hyperparameter Tuning'.\n",
      "2024/10/09 17:25:59 INFO mlflow.tracking._tracking_service.client: 🏃 View run caring-kit-538 at: http://127.0.0.1:8080/#/experiments/117274172334453328/runs/d54374344627444bac13b916afb76f9a.\n",
      "2024/10/09 17:25:59 INFO mlflow.tracking._tracking_service.client: 🧪 View experiment at: http://127.0.0.1:8080/#/experiments/117274172334453328.\n"
     ]
    },
    {
     "name": "stdout",
     "output_type": "stream",
     "text": [
      "| \u001b[0m5        \u001b[0m | \u001b[0m0.7605   \u001b[0m | \u001b[0m0.9531   \u001b[0m | \u001b[0m15.56    \u001b[0m | \u001b[0m0.02297  \u001b[0m | \u001b[0m470.3    \u001b[0m | \u001b[0m98.08    \u001b[0m | \u001b[0m0.329    \u001b[0m | \u001b[0m0.5955   \u001b[0m | \u001b[0m0.7679   \u001b[0m |\n",
      "[LightGBM] [Info] Number of positive: 21101, number of negative: 240279\n",
      "[LightGBM] [Info] Auto-choosing row-wise multi-threading, the overhead of testing was 0.057716 seconds.\n",
      "You can set `force_row_wise=true` to remove the overhead.\n",
      "And if memory is not enough, you can set `force_col_wise=true`.\n",
      "[LightGBM] [Info] Total Bins 12893\n",
      "[LightGBM] [Info] Number of data points in the train set: 261380, number of used features: 243\n",
      "[LightGBM] [Info] [binary:BoostFromScore]: pavg=0.080729 -> initscore=-2.432480\n",
      "[LightGBM] [Info] Start training from score -2.432480\n",
      "Training until validation scores don't improve for 10 rounds\n",
      "Early stopping, best iteration is:\n",
      "[225]\tvalid_0's auc: 0.762179\tvalid_0's binary_logloss: 0.244837\n"
     ]
    },
    {
     "name": "stderr",
     "output_type": "stream",
     "text": [
      "2024/10/09 17:26:08 WARNING mlflow.models.model: Model logged without a signature and input example. Please set `input_example` parameter when logging the model to auto infer the model signature.\n",
      "Registered model 'LightGBM BayesOpt - Hyperparameter Tuning' already exists. Creating a new version of this model...\n",
      "2024/10/09 17:26:08 INFO mlflow.store.model_registry.abstract_store: Waiting up to 300 seconds for model version to finish creation. Model name: LightGBM BayesOpt - Hyperparameter Tuning, version 6\n",
      "Created version '6' of model 'LightGBM BayesOpt - Hyperparameter Tuning'.\n",
      "2024/10/09 17:26:08 INFO mlflow.tracking._tracking_service.client: 🏃 View run vaunted-fawn-66 at: http://127.0.0.1:8080/#/experiments/117274172334453328/runs/5b730cef1c2d486ea079946625531c22.\n",
      "2024/10/09 17:26:08 INFO mlflow.tracking._tracking_service.client: 🧪 View experiment at: http://127.0.0.1:8080/#/experiments/117274172334453328.\n"
     ]
    },
    {
     "name": "stdout",
     "output_type": "stream",
     "text": [
      "| \u001b[0m6        \u001b[0m | \u001b[0m0.7622   \u001b[0m | \u001b[0m0.6046   \u001b[0m | \u001b[0m9.761    \u001b[0m | \u001b[0m0.01369  \u001b[0m | \u001b[0m745.4    \u001b[0m | \u001b[0m10.07    \u001b[0m | \u001b[0m0.3773   \u001b[0m | \u001b[0m0.01277  \u001b[0m | \u001b[0m0.7306   \u001b[0m |\n",
      "[LightGBM] [Info] Number of positive: 21101, number of negative: 240279\n",
      "[LightGBM] [Info] Auto-choosing row-wise multi-threading, the overhead of testing was 0.038704 seconds.\n",
      "You can set `force_row_wise=true` to remove the overhead.\n",
      "And if memory is not enough, you can set `force_col_wise=true`.\n",
      "[LightGBM] [Info] Total Bins 12893\n",
      "[LightGBM] [Info] Number of data points in the train set: 261380, number of used features: 243\n",
      "[LightGBM] [Info] [binary:BoostFromScore]: pavg=0.080729 -> initscore=-2.432480\n",
      "[LightGBM] [Info] Start training from score -2.432480\n",
      "Training until validation scores don't improve for 10 rounds\n",
      "Early stopping, best iteration is:\n",
      "[78]\tvalid_0's auc: 0.760565\tvalid_0's binary_logloss: 0.245391\n"
     ]
    },
    {
     "name": "stderr",
     "output_type": "stream",
     "text": [
      "2024/10/09 17:26:17 WARNING mlflow.models.model: Model logged without a signature and input example. Please set `input_example` parameter when logging the model to auto infer the model signature.\n",
      "Registered model 'LightGBM BayesOpt - Hyperparameter Tuning' already exists. Creating a new version of this model...\n",
      "2024/10/09 17:26:17 INFO mlflow.store.model_registry.abstract_store: Waiting up to 300 seconds for model version to finish creation. Model name: LightGBM BayesOpt - Hyperparameter Tuning, version 7\n",
      "Created version '7' of model 'LightGBM BayesOpt - Hyperparameter Tuning'.\n",
      "2024/10/09 17:26:17 INFO mlflow.tracking._tracking_service.client: 🏃 View run gentle-dolphin-120 at: http://127.0.0.1:8080/#/experiments/117274172334453328/runs/0d502618e70249fc8f899d1c385510cd.\n",
      "2024/10/09 17:26:17 INFO mlflow.tracking._tracking_service.client: 🧪 View experiment at: http://127.0.0.1:8080/#/experiments/117274172334453328.\n"
     ]
    },
    {
     "name": "stdout",
     "output_type": "stream",
     "text": [
      "| \u001b[0m7        \u001b[0m | \u001b[0m0.7606   \u001b[0m | \u001b[0m0.815    \u001b[0m | \u001b[0m11.54    \u001b[0m | \u001b[0m0.01715  \u001b[0m | \u001b[0m967.5    \u001b[0m | \u001b[0m91.35    \u001b[0m | \u001b[0m0.6812   \u001b[0m | \u001b[0m0.31     \u001b[0m | \u001b[0m0.905    \u001b[0m |\n",
      "[LightGBM] [Info] Number of positive: 21101, number of negative: 240279\n",
      "[LightGBM] [Info] Auto-choosing row-wise multi-threading, the overhead of testing was 0.037765 seconds.\n",
      "You can set `force_row_wise=true` to remove the overhead.\n",
      "And if memory is not enough, you can set `force_col_wise=true`.\n",
      "[LightGBM] [Info] Total Bins 12893\n",
      "[LightGBM] [Info] Number of data points in the train set: 261380, number of used features: 243\n",
      "[LightGBM] [Info] [binary:BoostFromScore]: pavg=0.080729 -> initscore=-2.432480\n",
      "[LightGBM] [Info] Start training from score -2.432480\n",
      "Training until validation scores don't improve for 10 rounds\n",
      "Early stopping, best iteration is:\n",
      "[88]\tvalid_0's auc: 0.762244\tvalid_0's binary_logloss: 0.244813\n"
     ]
    },
    {
     "name": "stderr",
     "output_type": "stream",
     "text": [
      "2024/10/09 17:26:26 WARNING mlflow.models.model: Model logged without a signature and input example. Please set `input_example` parameter when logging the model to auto infer the model signature.\n",
      "Registered model 'LightGBM BayesOpt - Hyperparameter Tuning' already exists. Creating a new version of this model...\n",
      "2024/10/09 17:26:26 INFO mlflow.store.model_registry.abstract_store: Waiting up to 300 seconds for model version to finish creation. Model name: LightGBM BayesOpt - Hyperparameter Tuning, version 8\n",
      "Created version '8' of model 'LightGBM BayesOpt - Hyperparameter Tuning'.\n",
      "2024/10/09 17:26:26 INFO mlflow.tracking._tracking_service.client: 🏃 View run judicious-chimp-822 at: http://127.0.0.1:8080/#/experiments/117274172334453328/runs/0a8a2ff57c7d450d83c016ff335fd125.\n",
      "2024/10/09 17:26:26 INFO mlflow.tracking._tracking_service.client: 🧪 View experiment at: http://127.0.0.1:8080/#/experiments/117274172334453328.\n"
     ]
    },
    {
     "name": "stdout",
     "output_type": "stream",
     "text": [
      "| \u001b[0m8        \u001b[0m | \u001b[0m0.7622   \u001b[0m | \u001b[0m0.7318   \u001b[0m | \u001b[0m19.34    \u001b[0m | \u001b[0m0.09852  \u001b[0m | \u001b[0m959.9    \u001b[0m | \u001b[0m53.03    \u001b[0m | \u001b[0m0.7526   \u001b[0m | \u001b[0m0.3901   \u001b[0m | \u001b[0m0.5865   \u001b[0m |\n",
      "[LightGBM] [Info] Number of positive: 21101, number of negative: 240279\n",
      "[LightGBM] [Info] Auto-choosing row-wise multi-threading, the overhead of testing was 0.074611 seconds.\n",
      "You can set `force_row_wise=true` to remove the overhead.\n",
      "And if memory is not enough, you can set `force_col_wise=true`.\n",
      "[LightGBM] [Info] Total Bins 12893\n",
      "[LightGBM] [Info] Number of data points in the train set: 261380, number of used features: 243\n",
      "[LightGBM] [Info] [binary:BoostFromScore]: pavg=0.080729 -> initscore=-2.432480\n",
      "[LightGBM] [Info] Start training from score -2.432480\n",
      "Training until validation scores don't improve for 10 rounds\n",
      "Early stopping, best iteration is:\n",
      "[141]\tvalid_0's auc: 0.762125\tvalid_0's binary_logloss: 0.244984\n"
     ]
    },
    {
     "name": "stderr",
     "output_type": "stream",
     "text": [
      "2024/10/09 17:26:34 WARNING mlflow.models.model: Model logged without a signature and input example. Please set `input_example` parameter when logging the model to auto infer the model signature.\n",
      "Registered model 'LightGBM BayesOpt - Hyperparameter Tuning' already exists. Creating a new version of this model...\n",
      "2024/10/09 17:26:34 INFO mlflow.store.model_registry.abstract_store: Waiting up to 300 seconds for model version to finish creation. Model name: LightGBM BayesOpt - Hyperparameter Tuning, version 9\n",
      "Created version '9' of model 'LightGBM BayesOpt - Hyperparameter Tuning'.\n",
      "2024/10/09 17:26:34 INFO mlflow.tracking._tracking_service.client: 🏃 View run nervous-elk-447 at: http://127.0.0.1:8080/#/experiments/117274172334453328/runs/1aaf9f82ab814b16988a9791f3cba8d7.\n",
      "2024/10/09 17:26:34 INFO mlflow.tracking._tracking_service.client: 🧪 View experiment at: http://127.0.0.1:8080/#/experiments/117274172334453328.\n"
     ]
    },
    {
     "name": "stdout",
     "output_type": "stream",
     "text": [
      "| \u001b[0m9        \u001b[0m | \u001b[0m0.7621   \u001b[0m | \u001b[0m0.6595   \u001b[0m | \u001b[0m12.09    \u001b[0m | \u001b[0m0.02061  \u001b[0m | \u001b[0m649.3    \u001b[0m | \u001b[0m13.69    \u001b[0m | \u001b[0m0.2464   \u001b[0m | \u001b[0m0.6162   \u001b[0m | \u001b[0m0.7762   \u001b[0m |\n",
      "[LightGBM] [Info] Number of positive: 21101, number of negative: 240279\n",
      "[LightGBM] [Info] Auto-choosing row-wise multi-threading, the overhead of testing was 0.062813 seconds.\n",
      "You can set `force_row_wise=true` to remove the overhead.\n",
      "And if memory is not enough, you can set `force_col_wise=true`.\n",
      "[LightGBM] [Info] Total Bins 12893\n",
      "[LightGBM] [Info] Number of data points in the train set: 261380, number of used features: 243\n",
      "[LightGBM] [Info] [binary:BoostFromScore]: pavg=0.080729 -> initscore=-2.432480\n",
      "[LightGBM] [Info] Start training from score -2.432480\n",
      "Training until validation scores don't improve for 10 rounds\n",
      "[LightGBM] [Warning] No further splits with positive gain, best gain: -inf\n",
      "[LightGBM] [Warning] No further splits with positive gain, best gain: -inf\n",
      "[LightGBM] [Warning] No further splits with positive gain, best gain: -inf\n",
      "[LightGBM] [Warning] No further splits with positive gain, best gain: -inf\n",
      "[LightGBM] [Warning] No further splits with positive gain, best gain: -inf\n",
      "[LightGBM] [Warning] No further splits with positive gain, best gain: -inf\n",
      "[LightGBM] [Warning] No further splits with positive gain, best gain: -inf\n",
      "[LightGBM] [Warning] No further splits with positive gain, best gain: -inf\n",
      "[LightGBM] [Warning] No further splits with positive gain, best gain: -inf\n",
      "[LightGBM] [Warning] No further splits with positive gain, best gain: -inf\n",
      "[LightGBM] [Warning] No further splits with positive gain, best gain: -inf\n",
      "[LightGBM] [Warning] No further splits with positive gain, best gain: -inf\n",
      "[LightGBM] [Warning] No further splits with positive gain, best gain: -inf\n",
      "[LightGBM] [Warning] No further splits with positive gain, best gain: -inf\n",
      "[LightGBM] [Warning] No further splits with positive gain, best gain: -inf\n",
      "[LightGBM] [Warning] No further splits with positive gain, best gain: -inf\n",
      "[LightGBM] [Warning] No further splits with positive gain, best gain: -inf\n",
      "[LightGBM] [Warning] No further splits with positive gain, best gain: -inf\n",
      "[LightGBM] [Warning] No further splits with positive gain, best gain: -inf\n",
      "[LightGBM] [Warning] No further splits with positive gain, best gain: -inf\n",
      "[LightGBM] [Warning] No further splits with positive gain, best gain: -inf\n",
      "[LightGBM] [Warning] No further splits with positive gain, best gain: -inf\n",
      "[LightGBM] [Warning] No further splits with positive gain, best gain: -inf\n",
      "[LightGBM] [Warning] No further splits with positive gain, best gain: -inf\n",
      "[LightGBM] [Warning] No further splits with positive gain, best gain: -inf\n",
      "[LightGBM] [Warning] No further splits with positive gain, best gain: -inf\n",
      "[LightGBM] [Warning] No further splits with positive gain, best gain: -inf\n",
      "[LightGBM] [Warning] No further splits with positive gain, best gain: -inf\n",
      "[LightGBM] [Warning] No further splits with positive gain, best gain: -inf\n",
      "[LightGBM] [Warning] No further splits with positive gain, best gain: -inf\n",
      "[LightGBM] [Warning] No further splits with positive gain, best gain: -inf\n",
      "[LightGBM] [Warning] No further splits with positive gain, best gain: -inf\n",
      "[LightGBM] [Warning] No further splits with positive gain, best gain: -inf\n",
      "Early stopping, best iteration is:\n",
      "[106]\tvalid_0's auc: 0.761509\tvalid_0's binary_logloss: 0.244976\n"
     ]
    },
    {
     "name": "stderr",
     "output_type": "stream",
     "text": [
      "2024/10/09 17:26:42 WARNING mlflow.models.model: Model logged without a signature and input example. Please set `input_example` parameter when logging the model to auto infer the model signature.\n",
      "Registered model 'LightGBM BayesOpt - Hyperparameter Tuning' already exists. Creating a new version of this model...\n",
      "2024/10/09 17:26:42 INFO mlflow.store.model_registry.abstract_store: Waiting up to 300 seconds for model version to finish creation. Model name: LightGBM BayesOpt - Hyperparameter Tuning, version 10\n",
      "Created version '10' of model 'LightGBM BayesOpt - Hyperparameter Tuning'.\n",
      "2024/10/09 17:26:43 INFO mlflow.tracking._tracking_service.client: 🏃 View run lyrical-donkey-897 at: http://127.0.0.1:8080/#/experiments/117274172334453328/runs/d598901bd791432a9e874fb8003e23da.\n",
      "2024/10/09 17:26:43 INFO mlflow.tracking._tracking_service.client: 🧪 View experiment at: http://127.0.0.1:8080/#/experiments/117274172334453328.\n"
     ]
    },
    {
     "name": "stdout",
     "output_type": "stream",
     "text": [
      "| \u001b[0m10       \u001b[0m | \u001b[0m0.7615   \u001b[0m | \u001b[0m0.7832   \u001b[0m | \u001b[0m6.437    \u001b[0m | \u001b[0m0.009297 \u001b[0m | \u001b[0m156.8    \u001b[0m | \u001b[0m51.12    \u001b[0m | \u001b[0m0.2362   \u001b[0m | \u001b[0m0.8646   \u001b[0m | \u001b[0m0.9836   \u001b[0m |\n",
      "[LightGBM] [Info] Number of positive: 21101, number of negative: 240279\n",
      "[LightGBM] [Info] Auto-choosing row-wise multi-threading, the overhead of testing was 0.038738 seconds.\n",
      "You can set `force_row_wise=true` to remove the overhead.\n",
      "And if memory is not enough, you can set `force_col_wise=true`.\n",
      "[LightGBM] [Info] Total Bins 12893\n",
      "[LightGBM] [Info] Number of data points in the train set: 261380, number of used features: 243\n",
      "[LightGBM] [Info] [binary:BoostFromScore]: pavg=0.080729 -> initscore=-2.432480\n",
      "[LightGBM] [Info] Start training from score -2.432480\n",
      "Training until validation scores don't improve for 10 rounds\n",
      "[LightGBM] [Warning] No further splits with positive gain, best gain: -inf\n",
      "[LightGBM] [Warning] No further splits with positive gain, best gain: -inf\n",
      "[LightGBM] [Warning] No further splits with positive gain, best gain: -inf\n",
      "[LightGBM] [Warning] No further splits with positive gain, best gain: -inf\n",
      "[LightGBM] [Warning] No further splits with positive gain, best gain: -inf\n",
      "[LightGBM] [Warning] No further splits with positive gain, best gain: -inf\n",
      "[LightGBM] [Warning] No further splits with positive gain, best gain: -inf\n",
      "[LightGBM] [Warning] No further splits with positive gain, best gain: -inf\n",
      "[LightGBM] [Warning] No further splits with positive gain, best gain: -inf\n",
      "[LightGBM] [Warning] No further splits with positive gain, best gain: -inf\n",
      "[LightGBM] [Warning] No further splits with positive gain, best gain: -inf\n",
      "[LightGBM] [Warning] No further splits with positive gain, best gain: -inf\n",
      "[LightGBM] [Warning] No further splits with positive gain, best gain: -inf\n",
      "Early stopping, best iteration is:\n",
      "[123]\tvalid_0's auc: 0.763222\tvalid_0's binary_logloss: 0.244531\n"
     ]
    },
    {
     "name": "stderr",
     "output_type": "stream",
     "text": [
      "2024/10/09 17:26:51 WARNING mlflow.models.model: Model logged without a signature and input example. Please set `input_example` parameter when logging the model to auto infer the model signature.\n",
      "Registered model 'LightGBM BayesOpt - Hyperparameter Tuning' already exists. Creating a new version of this model...\n",
      "2024/10/09 17:26:51 INFO mlflow.store.model_registry.abstract_store: Waiting up to 300 seconds for model version to finish creation. Model name: LightGBM BayesOpt - Hyperparameter Tuning, version 11\n",
      "Created version '11' of model 'LightGBM BayesOpt - Hyperparameter Tuning'.\n",
      "2024/10/09 17:26:51 INFO mlflow.tracking._tracking_service.client: 🏃 View run painted-steed-445 at: http://127.0.0.1:8080/#/experiments/117274172334453328/runs/110f20bf818b42e3a558cd9199801f93.\n",
      "2024/10/09 17:26:51 INFO mlflow.tracking._tracking_service.client: 🧪 View experiment at: http://127.0.0.1:8080/#/experiments/117274172334453328.\n"
     ]
    },
    {
     "name": "stdout",
     "output_type": "stream",
     "text": [
      "| \u001b[95m11       \u001b[0m | \u001b[95m0.7632   \u001b[0m | \u001b[95m0.8317   \u001b[0m | \u001b[95m6.583    \u001b[0m | \u001b[95m0.08404  \u001b[0m | \u001b[95m465.3    \u001b[0m | \u001b[95m40.14    \u001b[0m | \u001b[95m0.3517   \u001b[0m | \u001b[95m0.8552   \u001b[0m | \u001b[95m0.7761   \u001b[0m |\n",
      "[LightGBM] [Info] Number of positive: 21101, number of negative: 240279\n",
      "[LightGBM] [Info] Auto-choosing row-wise multi-threading, the overhead of testing was 0.039800 seconds.\n",
      "You can set `force_row_wise=true` to remove the overhead.\n",
      "And if memory is not enough, you can set `force_col_wise=true`.\n",
      "[LightGBM] [Info] Total Bins 12893\n",
      "[LightGBM] [Info] Number of data points in the train set: 261380, number of used features: 243\n",
      "[LightGBM] [Info] [binary:BoostFromScore]: pavg=0.080729 -> initscore=-2.432480\n",
      "[LightGBM] [Info] Start training from score -2.432480\n",
      "Training until validation scores don't improve for 10 rounds\n",
      "Early stopping, best iteration is:\n",
      "[122]\tvalid_0's auc: 0.762824\tvalid_0's binary_logloss: 0.244898\n"
     ]
    },
    {
     "name": "stderr",
     "output_type": "stream",
     "text": [
      "2024/10/09 17:26:58 WARNING mlflow.models.model: Model logged without a signature and input example. Please set `input_example` parameter when logging the model to auto infer the model signature.\n",
      "Registered model 'LightGBM BayesOpt - Hyperparameter Tuning' already exists. Creating a new version of this model...\n",
      "2024/10/09 17:26:59 INFO mlflow.store.model_registry.abstract_store: Waiting up to 300 seconds for model version to finish creation. Model name: LightGBM BayesOpt - Hyperparameter Tuning, version 12\n",
      "Created version '12' of model 'LightGBM BayesOpt - Hyperparameter Tuning'.\n",
      "2024/10/09 17:26:59 INFO mlflow.tracking._tracking_service.client: 🏃 View run funny-shrew-443 at: http://127.0.0.1:8080/#/experiments/117274172334453328/runs/1671bd8d1ba24e91a7a599777dd4d094.\n",
      "2024/10/09 17:26:59 INFO mlflow.tracking._tracking_service.client: 🧪 View experiment at: http://127.0.0.1:8080/#/experiments/117274172334453328.\n"
     ]
    },
    {
     "name": "stdout",
     "output_type": "stream",
     "text": [
      "| \u001b[0m12       \u001b[0m | \u001b[0m0.7628   \u001b[0m | \u001b[0m0.6879   \u001b[0m | \u001b[0m10.3     \u001b[0m | \u001b[0m0.04899  \u001b[0m | \u001b[0m708.5    \u001b[0m | \u001b[0m16.53    \u001b[0m | \u001b[0m0.2131   \u001b[0m | \u001b[0m0.9579   \u001b[0m | \u001b[0m0.9814   \u001b[0m |\n",
      "[LightGBM] [Info] Number of positive: 21101, number of negative: 240279\n",
      "[LightGBM] [Info] Auto-choosing row-wise multi-threading, the overhead of testing was 0.036992 seconds.\n",
      "You can set `force_row_wise=true` to remove the overhead.\n",
      "And if memory is not enough, you can set `force_col_wise=true`.\n",
      "[LightGBM] [Info] Total Bins 12893\n",
      "[LightGBM] [Info] Number of data points in the train set: 261380, number of used features: 243\n",
      "[LightGBM] [Info] [binary:BoostFromScore]: pavg=0.080729 -> initscore=-2.432480\n",
      "[LightGBM] [Info] Start training from score -2.432480\n",
      "Training until validation scores don't improve for 10 rounds\n",
      "Early stopping, best iteration is:\n",
      "[92]\tvalid_0's auc: 0.762741\tvalid_0's binary_logloss: 0.244757\n"
     ]
    },
    {
     "name": "stderr",
     "output_type": "stream",
     "text": [
      "2024/10/09 17:27:07 WARNING mlflow.models.model: Model logged without a signature and input example. Please set `input_example` parameter when logging the model to auto infer the model signature.\n",
      "Registered model 'LightGBM BayesOpt - Hyperparameter Tuning' already exists. Creating a new version of this model...\n",
      "2024/10/09 17:27:07 INFO mlflow.store.model_registry.abstract_store: Waiting up to 300 seconds for model version to finish creation. Model name: LightGBM BayesOpt - Hyperparameter Tuning, version 13\n",
      "Created version '13' of model 'LightGBM BayesOpt - Hyperparameter Tuning'.\n",
      "2024/10/09 17:27:07 INFO mlflow.tracking._tracking_service.client: 🏃 View run suave-mare-768 at: http://127.0.0.1:8080/#/experiments/117274172334453328/runs/3863bad2f61b4ac1a289c87b6481b22d.\n",
      "2024/10/09 17:27:07 INFO mlflow.tracking._tracking_service.client: 🧪 View experiment at: http://127.0.0.1:8080/#/experiments/117274172334453328.\n"
     ]
    },
    {
     "name": "stdout",
     "output_type": "stream",
     "text": [
      "| \u001b[0m13       \u001b[0m | \u001b[0m0.7627   \u001b[0m | \u001b[0m0.6509   \u001b[0m | \u001b[0m14.12    \u001b[0m | \u001b[0m0.09898  \u001b[0m | \u001b[0m621.2    \u001b[0m | \u001b[0m33.47    \u001b[0m | \u001b[0m0.1699   \u001b[0m | \u001b[0m0.4699   \u001b[0m | \u001b[0m0.647    \u001b[0m |\n",
      "[LightGBM] [Info] Number of positive: 21101, number of negative: 240279\n",
      "[LightGBM] [Info] Auto-choosing row-wise multi-threading, the overhead of testing was 0.056743 seconds.\n",
      "You can set `force_row_wise=true` to remove the overhead.\n",
      "And if memory is not enough, you can set `force_col_wise=true`.\n",
      "[LightGBM] [Info] Total Bins 12893\n",
      "[LightGBM] [Info] Number of data points in the train set: 261380, number of used features: 243\n",
      "[LightGBM] [Info] [binary:BoostFromScore]: pavg=0.080729 -> initscore=-2.432480\n",
      "[LightGBM] [Info] Start training from score -2.432480\n",
      "Training until validation scores don't improve for 10 rounds\n",
      "Early stopping, best iteration is:\n",
      "[121]\tvalid_0's auc: 0.762751\tvalid_0's binary_logloss: 0.244703\n"
     ]
    },
    {
     "name": "stderr",
     "output_type": "stream",
     "text": [
      "2024/10/09 17:27:16 WARNING mlflow.models.model: Model logged without a signature and input example. Please set `input_example` parameter when logging the model to auto infer the model signature.\n",
      "Registered model 'LightGBM BayesOpt - Hyperparameter Tuning' already exists. Creating a new version of this model...\n",
      "2024/10/09 17:27:16 INFO mlflow.store.model_registry.abstract_store: Waiting up to 300 seconds for model version to finish creation. Model name: LightGBM BayesOpt - Hyperparameter Tuning, version 14\n",
      "Created version '14' of model 'LightGBM BayesOpt - Hyperparameter Tuning'.\n",
      "2024/10/09 17:27:16 INFO mlflow.tracking._tracking_service.client: 🏃 View run upbeat-dog-303 at: http://127.0.0.1:8080/#/experiments/117274172334453328/runs/86c9e7e3af3847e987a7b2f4cb98bcf8.\n",
      "2024/10/09 17:27:16 INFO mlflow.tracking._tracking_service.client: 🧪 View experiment at: http://127.0.0.1:8080/#/experiments/117274172334453328.\n"
     ]
    },
    {
     "name": "stdout",
     "output_type": "stream",
     "text": [
      "| \u001b[0m14       \u001b[0m | \u001b[0m0.7628   \u001b[0m | \u001b[0m0.508    \u001b[0m | \u001b[0m15.17    \u001b[0m | \u001b[0m0.06001  \u001b[0m | \u001b[0m600.3    \u001b[0m | \u001b[0m16.55    \u001b[0m | \u001b[0m0.9464   \u001b[0m | \u001b[0m0.637    \u001b[0m | \u001b[0m0.7839   \u001b[0m |\n",
      "[LightGBM] [Info] Number of positive: 21101, number of negative: 240279\n",
      "[LightGBM] [Info] Auto-choosing row-wise multi-threading, the overhead of testing was 0.055965 seconds.\n",
      "You can set `force_row_wise=true` to remove the overhead.\n",
      "And if memory is not enough, you can set `force_col_wise=true`.\n",
      "[LightGBM] [Info] Total Bins 12893\n",
      "[LightGBM] [Info] Number of data points in the train set: 261380, number of used features: 243\n",
      "[LightGBM] [Info] [binary:BoostFromScore]: pavg=0.080729 -> initscore=-2.432480\n",
      "[LightGBM] [Info] Start training from score -2.432480\n",
      "Training until validation scores don't improve for 10 rounds\n",
      "Early stopping, best iteration is:\n",
      "[93]\tvalid_0's auc: 0.762014\tvalid_0's binary_logloss: 0.244943\n"
     ]
    },
    {
     "name": "stderr",
     "output_type": "stream",
     "text": [
      "2024/10/09 17:27:25 WARNING mlflow.models.model: Model logged without a signature and input example. Please set `input_example` parameter when logging the model to auto infer the model signature.\n",
      "Registered model 'LightGBM BayesOpt - Hyperparameter Tuning' already exists. Creating a new version of this model...\n",
      "2024/10/09 17:27:25 INFO mlflow.store.model_registry.abstract_store: Waiting up to 300 seconds for model version to finish creation. Model name: LightGBM BayesOpt - Hyperparameter Tuning, version 15\n",
      "Created version '15' of model 'LightGBM BayesOpt - Hyperparameter Tuning'.\n",
      "2024/10/09 17:27:25 INFO mlflow.tracking._tracking_service.client: 🏃 View run upset-loon-381 at: http://127.0.0.1:8080/#/experiments/117274172334453328/runs/c4b882785ff14008802e04b5a596adbb.\n",
      "2024/10/09 17:27:25 INFO mlflow.tracking._tracking_service.client: 🧪 View experiment at: http://127.0.0.1:8080/#/experiments/117274172334453328.\n"
     ]
    },
    {
     "name": "stdout",
     "output_type": "stream",
     "text": [
      "| \u001b[0m15       \u001b[0m | \u001b[0m0.762    \u001b[0m | \u001b[0m0.5516   \u001b[0m | \u001b[0m10.78    \u001b[0m | \u001b[0m0.09232  \u001b[0m | \u001b[0m405.3    \u001b[0m | \u001b[0m75.53    \u001b[0m | \u001b[0m0.1496   \u001b[0m | \u001b[0m0.5415   \u001b[0m | \u001b[0m0.7235   \u001b[0m |\n",
      "[LightGBM] [Info] Number of positive: 21101, number of negative: 240279\n",
      "[LightGBM] [Info] Auto-choosing row-wise multi-threading, the overhead of testing was 0.066047 seconds.\n",
      "You can set `force_row_wise=true` to remove the overhead.\n",
      "And if memory is not enough, you can set `force_col_wise=true`.\n",
      "[LightGBM] [Info] Total Bins 12893\n",
      "[LightGBM] [Info] Number of data points in the train set: 261380, number of used features: 243\n",
      "[LightGBM] [Info] [binary:BoostFromScore]: pavg=0.080729 -> initscore=-2.432480\n",
      "[LightGBM] [Info] Start training from score -2.432480\n",
      "Training until validation scores don't improve for 10 rounds\n",
      "Early stopping, best iteration is:\n",
      "[82]\tvalid_0's auc: 0.763519\tvalid_0's binary_logloss: 0.244858\n"
     ]
    },
    {
     "name": "stderr",
     "output_type": "stream",
     "text": [
      "2024/10/09 17:27:33 WARNING mlflow.models.model: Model logged without a signature and input example. Please set `input_example` parameter when logging the model to auto infer the model signature.\n",
      "Registered model 'LightGBM BayesOpt - Hyperparameter Tuning' already exists. Creating a new version of this model...\n",
      "2024/10/09 17:27:33 INFO mlflow.store.model_registry.abstract_store: Waiting up to 300 seconds for model version to finish creation. Model name: LightGBM BayesOpt - Hyperparameter Tuning, version 16\n",
      "Created version '16' of model 'LightGBM BayesOpt - Hyperparameter Tuning'.\n",
      "2024/10/09 17:27:33 INFO mlflow.tracking._tracking_service.client: 🏃 View run popular-hound-716 at: http://127.0.0.1:8080/#/experiments/117274172334453328/runs/e71a492a3fc54b909d00343666075405.\n",
      "2024/10/09 17:27:33 INFO mlflow.tracking._tracking_service.client: 🧪 View experiment at: http://127.0.0.1:8080/#/experiments/117274172334453328.\n"
     ]
    },
    {
     "name": "stdout",
     "output_type": "stream",
     "text": [
      "| \u001b[95m16       \u001b[0m | \u001b[95m0.7635   \u001b[0m | \u001b[95m0.6611   \u001b[0m | \u001b[95m11.95    \u001b[0m | \u001b[95m0.05336  \u001b[0m | \u001b[95m852.3    \u001b[0m | \u001b[95m53.44    \u001b[0m | \u001b[95m0.7458   \u001b[0m | \u001b[95m0.2442   \u001b[0m | \u001b[95m0.706    \u001b[0m |\n",
      "[LightGBM] [Info] Number of positive: 21101, number of negative: 240279\n",
      "[LightGBM] [Info] Auto-choosing row-wise multi-threading, the overhead of testing was 0.043911 seconds.\n",
      "You can set `force_row_wise=true` to remove the overhead.\n",
      "And if memory is not enough, you can set `force_col_wise=true`.\n",
      "[LightGBM] [Info] Total Bins 12893\n",
      "[LightGBM] [Info] Number of data points in the train set: 261380, number of used features: 243\n",
      "[LightGBM] [Info] [binary:BoostFromScore]: pavg=0.080729 -> initscore=-2.432480\n",
      "[LightGBM] [Info] Start training from score -2.432480\n",
      "Training until validation scores don't improve for 10 rounds\n",
      "[LightGBM] [Warning] No further splits with positive gain, best gain: -inf\n",
      "Early stopping, best iteration is:\n",
      "[95]\tvalid_0's auc: 0.763478\tvalid_0's binary_logloss: 0.244376\n"
     ]
    },
    {
     "name": "stderr",
     "output_type": "stream",
     "text": [
      "2024/10/09 17:27:42 WARNING mlflow.models.model: Model logged without a signature and input example. Please set `input_example` parameter when logging the model to auto infer the model signature.\n",
      "Registered model 'LightGBM BayesOpt - Hyperparameter Tuning' already exists. Creating a new version of this model...\n",
      "2024/10/09 17:27:42 INFO mlflow.store.model_registry.abstract_store: Waiting up to 300 seconds for model version to finish creation. Model name: LightGBM BayesOpt - Hyperparameter Tuning, version 17\n",
      "Created version '17' of model 'LightGBM BayesOpt - Hyperparameter Tuning'.\n",
      "2024/10/09 17:27:42 INFO mlflow.tracking._tracking_service.client: 🏃 View run amusing-goose-213 at: http://127.0.0.1:8080/#/experiments/117274172334453328/runs/2d3ae8d89d8d40e1923ca7186a11fc18.\n",
      "2024/10/09 17:27:42 INFO mlflow.tracking._tracking_service.client: 🧪 View experiment at: http://127.0.0.1:8080/#/experiments/117274172334453328.\n"
     ]
    },
    {
     "name": "stdout",
     "output_type": "stream",
     "text": [
      "| \u001b[0m17       \u001b[0m | \u001b[0m0.7635   \u001b[0m | \u001b[0m0.6797   \u001b[0m | \u001b[0m9.574    \u001b[0m | \u001b[0m0.05011  \u001b[0m | \u001b[0m536.4    \u001b[0m | \u001b[0m71.75    \u001b[0m | \u001b[0m0.034    \u001b[0m | \u001b[0m0.7631   \u001b[0m | \u001b[0m0.673    \u001b[0m |\n",
      "[LightGBM] [Info] Number of positive: 21101, number of negative: 240279\n",
      "[LightGBM] [Info] Auto-choosing row-wise multi-threading, the overhead of testing was 0.038926 seconds.\n",
      "You can set `force_row_wise=true` to remove the overhead.\n",
      "And if memory is not enough, you can set `force_col_wise=true`.\n",
      "[LightGBM] [Info] Total Bins 12893\n",
      "[LightGBM] [Info] Number of data points in the train set: 261380, number of used features: 243\n",
      "[LightGBM] [Info] [binary:BoostFromScore]: pavg=0.080729 -> initscore=-2.432480\n",
      "[LightGBM] [Info] Start training from score -2.432480\n",
      "Training until validation scores don't improve for 10 rounds\n",
      "Early stopping, best iteration is:\n",
      "[137]\tvalid_0's auc: 0.762659\tvalid_0's binary_logloss: 0.244771\n"
     ]
    },
    {
     "name": "stderr",
     "output_type": "stream",
     "text": [
      "2024/10/09 17:27:52 WARNING mlflow.models.model: Model logged without a signature and input example. Please set `input_example` parameter when logging the model to auto infer the model signature.\n",
      "Registered model 'LightGBM BayesOpt - Hyperparameter Tuning' already exists. Creating a new version of this model...\n",
      "2024/10/09 17:27:52 INFO mlflow.store.model_registry.abstract_store: Waiting up to 300 seconds for model version to finish creation. Model name: LightGBM BayesOpt - Hyperparameter Tuning, version 18\n",
      "Created version '18' of model 'LightGBM BayesOpt - Hyperparameter Tuning'.\n",
      "2024/10/09 17:27:52 INFO mlflow.tracking._tracking_service.client: 🏃 View run bustling-cat-926 at: http://127.0.0.1:8080/#/experiments/117274172334453328/runs/4110801f59b84178b719481d435bc853.\n",
      "2024/10/09 17:27:52 INFO mlflow.tracking._tracking_service.client: 🧪 View experiment at: http://127.0.0.1:8080/#/experiments/117274172334453328.\n"
     ]
    },
    {
     "name": "stdout",
     "output_type": "stream",
     "text": [
      "| \u001b[0m18       \u001b[0m | \u001b[0m0.7627   \u001b[0m | \u001b[0m0.5067   \u001b[0m | \u001b[0m18.77    \u001b[0m | \u001b[0m0.09749  \u001b[0m | \u001b[0m784.8    \u001b[0m | \u001b[0m19.81    \u001b[0m | \u001b[0m0.5652   \u001b[0m | \u001b[0m0.8659   \u001b[0m | \u001b[0m0.6174   \u001b[0m |\n",
      "[LightGBM] [Info] Number of positive: 21101, number of negative: 240279\n",
      "[LightGBM] [Info] Auto-choosing row-wise multi-threading, the overhead of testing was 0.044431 seconds.\n",
      "You can set `force_row_wise=true` to remove the overhead.\n",
      "And if memory is not enough, you can set `force_col_wise=true`.\n",
      "[LightGBM] [Info] Total Bins 12893\n",
      "[LightGBM] [Info] Number of data points in the train set: 261380, number of used features: 243\n",
      "[LightGBM] [Info] [binary:BoostFromScore]: pavg=0.080729 -> initscore=-2.432480\n",
      "[LightGBM] [Info] Start training from score -2.432480\n",
      "Training until validation scores don't improve for 10 rounds\n",
      "Early stopping, best iteration is:\n",
      "[108]\tvalid_0's auc: 0.763408\tvalid_0's binary_logloss: 0.244655\n"
     ]
    },
    {
     "name": "stderr",
     "output_type": "stream",
     "text": [
      "2024/10/09 17:28:00 WARNING mlflow.models.model: Model logged without a signature and input example. Please set `input_example` parameter when logging the model to auto infer the model signature.\n",
      "Registered model 'LightGBM BayesOpt - Hyperparameter Tuning' already exists. Creating a new version of this model...\n",
      "2024/10/09 17:28:00 INFO mlflow.store.model_registry.abstract_store: Waiting up to 300 seconds for model version to finish creation. Model name: LightGBM BayesOpt - Hyperparameter Tuning, version 19\n",
      "Created version '19' of model 'LightGBM BayesOpt - Hyperparameter Tuning'.\n",
      "2024/10/09 17:28:00 INFO mlflow.tracking._tracking_service.client: 🏃 View run gaudy-turtle-388 at: http://127.0.0.1:8080/#/experiments/117274172334453328/runs/0e4126f1d201470cab91d1a2ddf474ad.\n",
      "2024/10/09 17:28:00 INFO mlflow.tracking._tracking_service.client: 🧪 View experiment at: http://127.0.0.1:8080/#/experiments/117274172334453328.\n"
     ]
    },
    {
     "name": "stdout",
     "output_type": "stream",
     "text": [
      "| \u001b[0m19       \u001b[0m | \u001b[0m0.7634   \u001b[0m | \u001b[0m0.6554   \u001b[0m | \u001b[0m14.61    \u001b[0m | \u001b[0m0.07227  \u001b[0m | \u001b[0m368.0    \u001b[0m | \u001b[0m28.21    \u001b[0m | \u001b[0m0.2181   \u001b[0m | \u001b[0m0.5282   \u001b[0m | \u001b[0m0.518    \u001b[0m |\n",
      "[LightGBM] [Info] Number of positive: 21101, number of negative: 240279\n",
      "[LightGBM] [Info] Auto-choosing col-wise multi-threading, the overhead of testing was 0.120547 seconds.\n",
      "You can set `force_col_wise=true` to remove the overhead.\n",
      "[LightGBM] [Info] Total Bins 12893\n",
      "[LightGBM] [Info] Number of data points in the train set: 261380, number of used features: 243\n",
      "[LightGBM] [Info] [binary:BoostFromScore]: pavg=0.080729 -> initscore=-2.432480\n",
      "[LightGBM] [Info] Start training from score -2.432480\n",
      "Training until validation scores don't improve for 10 rounds\n",
      "Early stopping, best iteration is:\n",
      "[84]\tvalid_0's auc: 0.761931\tvalid_0's binary_logloss: 0.244788\n"
     ]
    },
    {
     "name": "stderr",
     "output_type": "stream",
     "text": [
      "2024/10/09 17:28:09 WARNING mlflow.models.model: Model logged without a signature and input example. Please set `input_example` parameter when logging the model to auto infer the model signature.\n",
      "Registered model 'LightGBM BayesOpt - Hyperparameter Tuning' already exists. Creating a new version of this model...\n",
      "2024/10/09 17:28:09 INFO mlflow.store.model_registry.abstract_store: Waiting up to 300 seconds for model version to finish creation. Model name: LightGBM BayesOpt - Hyperparameter Tuning, version 20\n",
      "Created version '20' of model 'LightGBM BayesOpt - Hyperparameter Tuning'.\n",
      "2024/10/09 17:28:09 INFO mlflow.tracking._tracking_service.client: 🏃 View run incongruous-dove-515 at: http://127.0.0.1:8080/#/experiments/117274172334453328/runs/a1c9da286db34491a0d660199e2bfa28.\n",
      "2024/10/09 17:28:09 INFO mlflow.tracking._tracking_service.client: 🧪 View experiment at: http://127.0.0.1:8080/#/experiments/117274172334453328.\n"
     ]
    },
    {
     "name": "stdout",
     "output_type": "stream",
     "text": [
      "| \u001b[0m20       \u001b[0m | \u001b[0m0.7619   \u001b[0m | \u001b[0m0.7405   \u001b[0m | \u001b[0m18.41    \u001b[0m | \u001b[0m0.09603  \u001b[0m | \u001b[0m747.0    \u001b[0m | \u001b[0m34.51    \u001b[0m | \u001b[0m0.4351   \u001b[0m | \u001b[0m0.6295   \u001b[0m | \u001b[0m0.9674   \u001b[0m |\n",
      "[LightGBM] [Info] Number of positive: 21101, number of negative: 240279\n",
      "[LightGBM] [Info] Auto-choosing row-wise multi-threading, the overhead of testing was 0.047565 seconds.\n",
      "You can set `force_row_wise=true` to remove the overhead.\n",
      "And if memory is not enough, you can set `force_col_wise=true`.\n",
      "[LightGBM] [Info] Total Bins 12893\n",
      "[LightGBM] [Info] Number of data points in the train set: 261380, number of used features: 243\n",
      "[LightGBM] [Info] [binary:BoostFromScore]: pavg=0.080729 -> initscore=-2.432480\n",
      "[LightGBM] [Info] Start training from score -2.432480\n",
      "[LightGBM] [Warning] No further splits with positive gain, best gain: -inf\n",
      "Training until validation scores don't improve for 10 rounds\n",
      "[LightGBM] [Warning] No further splits with positive gain, best gain: -inf\n",
      "[LightGBM] [Warning] No further splits with positive gain, best gain: -inf\n",
      "[LightGBM] [Warning] No further splits with positive gain, best gain: -inf\n",
      "[LightGBM] [Warning] No further splits with positive gain, best gain: -inf\n",
      "[LightGBM] [Warning] No further splits with positive gain, best gain: -inf\n",
      "[LightGBM] [Warning] No further splits with positive gain, best gain: -inf\n",
      "[LightGBM] [Warning] No further splits with positive gain, best gain: -inf\n",
      "[LightGBM] [Warning] No further splits with positive gain, best gain: -inf\n",
      "[LightGBM] [Warning] No further splits with positive gain, best gain: -inf\n",
      "[LightGBM] [Warning] No further splits with positive gain, best gain: -inf\n",
      "[LightGBM] [Warning] No further splits with positive gain, best gain: -inf\n",
      "[LightGBM] [Warning] No further splits with positive gain, best gain: -inf\n",
      "[LightGBM] [Warning] No further splits with positive gain, best gain: -inf\n",
      "[LightGBM] [Warning] No further splits with positive gain, best gain: -inf\n",
      "[LightGBM] [Warning] No further splits with positive gain, best gain: -inf\n",
      "[LightGBM] [Warning] No further splits with positive gain, best gain: -inf\n",
      "[LightGBM] [Warning] No further splits with positive gain, best gain: -inf\n",
      "[LightGBM] [Warning] No further splits with positive gain, best gain: -inf\n",
      "[LightGBM] [Warning] No further splits with positive gain, best gain: -inf\n",
      "[LightGBM] [Warning] No further splits with positive gain, best gain: -inf\n",
      "[LightGBM] [Warning] No further splits with positive gain, best gain: -inf\n",
      "[LightGBM] [Warning] No further splits with positive gain, best gain: -inf\n",
      "[LightGBM] [Warning] No further splits with positive gain, best gain: -inf\n",
      "[LightGBM] [Warning] No further splits with positive gain, best gain: -inf\n",
      "[LightGBM] [Warning] No further splits with positive gain, best gain: -inf\n",
      "[LightGBM] [Warning] No further splits with positive gain, best gain: -inf\n",
      "[LightGBM] [Warning] No further splits with positive gain, best gain: -inf\n",
      "[LightGBM] [Warning] No further splits with positive gain, best gain: -inf\n",
      "[LightGBM] [Warning] No further splits with positive gain, best gain: -inf\n",
      "[LightGBM] [Warning] No further splits with positive gain, best gain: -inf\n",
      "[LightGBM] [Warning] No further splits with positive gain, best gain: -inf\n",
      "[LightGBM] [Warning] No further splits with positive gain, best gain: -inf\n",
      "[LightGBM] [Warning] No further splits with positive gain, best gain: -inf\n",
      "[LightGBM] [Warning] No further splits with positive gain, best gain: -inf\n",
      "[LightGBM] [Warning] No further splits with positive gain, best gain: -inf\n",
      "[LightGBM] [Warning] No further splits with positive gain, best gain: -inf\n",
      "[LightGBM] [Warning] No further splits with positive gain, best gain: -inf\n",
      "[LightGBM] [Warning] No further splits with positive gain, best gain: -inf\n",
      "[LightGBM] [Warning] No further splits with positive gain, best gain: -inf\n",
      "[LightGBM] [Warning] No further splits with positive gain, best gain: -inf\n",
      "[LightGBM] [Warning] No further splits with positive gain, best gain: -inf\n",
      "[LightGBM] [Warning] No further splits with positive gain, best gain: -inf\n",
      "[LightGBM] [Warning] No further splits with positive gain, best gain: -inf\n",
      "[LightGBM] [Warning] No further splits with positive gain, best gain: -inf\n",
      "[LightGBM] [Warning] No further splits with positive gain, best gain: -inf\n",
      "[LightGBM] [Warning] No further splits with positive gain, best gain: -inf\n",
      "[LightGBM] [Warning] No further splits with positive gain, best gain: -inf\n",
      "[LightGBM] [Warning] No further splits with positive gain, best gain: -inf\n",
      "[LightGBM] [Warning] No further splits with positive gain, best gain: -inf\n",
      "[LightGBM] [Warning] No further splits with positive gain, best gain: -inf\n",
      "[LightGBM] [Warning] No further splits with positive gain, best gain: -inf\n",
      "[LightGBM] [Warning] No further splits with positive gain, best gain: -inf\n",
      "[LightGBM] [Warning] No further splits with positive gain, best gain: -inf\n",
      "[LightGBM] [Warning] No further splits with positive gain, best gain: -inf\n",
      "[LightGBM] [Warning] No further splits with positive gain, best gain: -inf\n",
      "[LightGBM] [Warning] No further splits with positive gain, best gain: -inf\n",
      "[LightGBM] [Warning] No further splits with positive gain, best gain: -inf\n",
      "[LightGBM] [Warning] No further splits with positive gain, best gain: -inf\n",
      "[LightGBM] [Warning] No further splits with positive gain, best gain: -inf\n",
      "[LightGBM] [Warning] No further splits with positive gain, best gain: -inf\n",
      "[LightGBM] [Warning] No further splits with positive gain, best gain: -inf\n",
      "[LightGBM] [Warning] No further splits with positive gain, best gain: -inf\n",
      "[LightGBM] [Warning] No further splits with positive gain, best gain: -inf\n",
      "[LightGBM] [Warning] No further splits with positive gain, best gain: -inf\n",
      "[LightGBM] [Warning] No further splits with positive gain, best gain: -inf\n",
      "[LightGBM] [Warning] No further splits with positive gain, best gain: -inf\n",
      "[LightGBM] [Warning] No further splits with positive gain, best gain: -inf\n",
      "[LightGBM] [Warning] No further splits with positive gain, best gain: -inf\n",
      "[LightGBM] [Warning] No further splits with positive gain, best gain: -inf\n",
      "[LightGBM] [Warning] No further splits with positive gain, best gain: -inf\n",
      "[LightGBM] [Warning] No further splits with positive gain, best gain: -inf\n",
      "[LightGBM] [Warning] No further splits with positive gain, best gain: -inf\n",
      "[LightGBM] [Warning] No further splits with positive gain, best gain: -inf\n",
      "[LightGBM] [Warning] No further splits with positive gain, best gain: -inf\n",
      "[LightGBM] [Warning] No further splits with positive gain, best gain: -inf\n",
      "[LightGBM] [Warning] No further splits with positive gain, best gain: -inf\n",
      "[LightGBM] [Warning] No further splits with positive gain, best gain: -inf\n",
      "[LightGBM] [Warning] No further splits with positive gain, best gain: -inf\n",
      "[LightGBM] [Warning] No further splits with positive gain, best gain: -inf\n",
      "[LightGBM] [Warning] No further splits with positive gain, best gain: -inf\n",
      "[LightGBM] [Warning] No further splits with positive gain, best gain: -inf\n",
      "[LightGBM] [Warning] No further splits with positive gain, best gain: -inf\n",
      "[LightGBM] [Warning] No further splits with positive gain, best gain: -inf\n",
      "[LightGBM] [Warning] No further splits with positive gain, best gain: -inf\n",
      "[LightGBM] [Warning] No further splits with positive gain, best gain: -inf\n",
      "[LightGBM] [Warning] No further splits with positive gain, best gain: -inf\n",
      "[LightGBM] [Warning] No further splits with positive gain, best gain: -inf\n",
      "[LightGBM] [Warning] No further splits with positive gain, best gain: -inf\n",
      "[LightGBM] [Warning] No further splits with positive gain, best gain: -inf\n",
      "[LightGBM] [Warning] No further splits with positive gain, best gain: -inf\n",
      "[LightGBM] [Warning] No further splits with positive gain, best gain: -inf\n",
      "[LightGBM] [Warning] No further splits with positive gain, best gain: -inf\n",
      "[LightGBM] [Warning] No further splits with positive gain, best gain: -inf\n",
      "[LightGBM] [Warning] No further splits with positive gain, best gain: -inf\n",
      "[LightGBM] [Warning] No further splits with positive gain, best gain: -inf\n",
      "[LightGBM] [Warning] No further splits with positive gain, best gain: -inf\n",
      "[LightGBM] [Warning] No further splits with positive gain, best gain: -inf\n",
      "[LightGBM] [Warning] No further splits with positive gain, best gain: -inf\n",
      "[LightGBM] [Warning] No further splits with positive gain, best gain: -inf\n",
      "[LightGBM] [Warning] No further splits with positive gain, best gain: -inf\n",
      "[LightGBM] [Warning] No further splits with positive gain, best gain: -inf\n",
      "[LightGBM] [Warning] No further splits with positive gain, best gain: -inf\n",
      "[LightGBM] [Warning] No further splits with positive gain, best gain: -inf\n",
      "[LightGBM] [Warning] No further splits with positive gain, best gain: -inf\n",
      "[LightGBM] [Warning] No further splits with positive gain, best gain: -inf\n",
      "[LightGBM] [Warning] No further splits with positive gain, best gain: -inf\n",
      "[LightGBM] [Warning] No further splits with positive gain, best gain: -inf\n",
      "[LightGBM] [Warning] No further splits with positive gain, best gain: -inf\n",
      "[LightGBM] [Warning] No further splits with positive gain, best gain: -inf\n"
     ]
    },
    {
     "name": "stdout",
     "output_type": "stream",
     "text": [
      "[LightGBM] [Warning] No further splits with positive gain, best gain: -inf\n",
      "[LightGBM] [Warning] No further splits with positive gain, best gain: -inf\n",
      "[LightGBM] [Warning] No further splits with positive gain, best gain: -inf\n",
      "[LightGBM] [Warning] No further splits with positive gain, best gain: -inf\n",
      "[LightGBM] [Warning] No further splits with positive gain, best gain: -inf\n",
      "[LightGBM] [Warning] No further splits with positive gain, best gain: -inf\n",
      "[LightGBM] [Warning] No further splits with positive gain, best gain: -inf\n",
      "[LightGBM] [Warning] No further splits with positive gain, best gain: -inf\n",
      "[LightGBM] [Warning] No further splits with positive gain, best gain: -inf\n",
      "[LightGBM] [Warning] No further splits with positive gain, best gain: -inf\n",
      "[LightGBM] [Warning] No further splits with positive gain, best gain: -inf\n",
      "[LightGBM] [Warning] No further splits with positive gain, best gain: -inf\n",
      "[LightGBM] [Warning] No further splits with positive gain, best gain: -inf\n",
      "[LightGBM] [Warning] No further splits with positive gain, best gain: -inf\n",
      "[LightGBM] [Warning] No further splits with positive gain, best gain: -inf\n",
      "[LightGBM] [Warning] No further splits with positive gain, best gain: -inf\n",
      "[LightGBM] [Warning] No further splits with positive gain, best gain: -inf\n",
      "[LightGBM] [Warning] No further splits with positive gain, best gain: -inf\n",
      "[LightGBM] [Warning] No further splits with positive gain, best gain: -inf\n",
      "[LightGBM] [Warning] No further splits with positive gain, best gain: -inf\n",
      "[LightGBM] [Warning] No further splits with positive gain, best gain: -inf\n",
      "[LightGBM] [Warning] No further splits with positive gain, best gain: -inf\n",
      "[LightGBM] [Warning] No further splits with positive gain, best gain: -inf\n",
      "[LightGBM] [Warning] No further splits with positive gain, best gain: -inf\n",
      "[LightGBM] [Warning] No further splits with positive gain, best gain: -inf\n",
      "[LightGBM] [Warning] No further splits with positive gain, best gain: -inf\n",
      "[LightGBM] [Warning] No further splits with positive gain, best gain: -inf\n",
      "[LightGBM] [Warning] No further splits with positive gain, best gain: -inf\n",
      "[LightGBM] [Warning] No further splits with positive gain, best gain: -inf\n",
      "[LightGBM] [Warning] No further splits with positive gain, best gain: -inf\n",
      "[LightGBM] [Warning] No further splits with positive gain, best gain: -inf\n",
      "[LightGBM] [Warning] No further splits with positive gain, best gain: -inf\n",
      "[LightGBM] [Warning] No further splits with positive gain, best gain: -inf\n",
      "[LightGBM] [Warning] No further splits with positive gain, best gain: -inf\n",
      "[LightGBM] [Warning] No further splits with positive gain, best gain: -inf\n",
      "[LightGBM] [Warning] No further splits with positive gain, best gain: -inf\n",
      "[LightGBM] [Warning] No further splits with positive gain, best gain: -inf\n",
      "[LightGBM] [Warning] No further splits with positive gain, best gain: -inf\n",
      "[LightGBM] [Warning] No further splits with positive gain, best gain: -inf\n",
      "[LightGBM] [Warning] No further splits with positive gain, best gain: -inf\n",
      "[LightGBM] [Warning] No further splits with positive gain, best gain: -inf\n",
      "[LightGBM] [Warning] No further splits with positive gain, best gain: -inf\n",
      "[LightGBM] [Warning] No further splits with positive gain, best gain: -inf\n",
      "[LightGBM] [Warning] No further splits with positive gain, best gain: -inf\n",
      "[LightGBM] [Warning] No further splits with positive gain, best gain: -inf\n",
      "[LightGBM] [Warning] No further splits with positive gain, best gain: -inf\n",
      "[LightGBM] [Warning] No further splits with positive gain, best gain: -inf\n",
      "[LightGBM] [Warning] No further splits with positive gain, best gain: -inf\n",
      "[LightGBM] [Warning] No further splits with positive gain, best gain: -inf\n",
      "[LightGBM] [Warning] No further splits with positive gain, best gain: -inf\n",
      "[LightGBM] [Warning] No further splits with positive gain, best gain: -inf\n",
      "[LightGBM] [Warning] No further splits with positive gain, best gain: -inf\n",
      "[LightGBM] [Warning] No further splits with positive gain, best gain: -inf\n",
      "[LightGBM] [Warning] No further splits with positive gain, best gain: -inf\n",
      "[LightGBM] [Warning] No further splits with positive gain, best gain: -inf\n",
      "[LightGBM] [Warning] No further splits with positive gain, best gain: -inf\n",
      "[LightGBM] [Warning] No further splits with positive gain, best gain: -inf\n",
      "[LightGBM] [Warning] No further splits with positive gain, best gain: -inf\n",
      "[LightGBM] [Warning] No further splits with positive gain, best gain: -inf\n",
      "[LightGBM] [Warning] No further splits with positive gain, best gain: -inf\n",
      "[LightGBM] [Warning] No further splits with positive gain, best gain: -inf\n",
      "[LightGBM] [Warning] No further splits with positive gain, best gain: -inf\n",
      "Did not meet early stopping. Best iteration is:\n",
      "[170]\tvalid_0's auc: 0.762637\tvalid_0's binary_logloss: 0.244566\n"
     ]
    },
    {
     "name": "stderr",
     "output_type": "stream",
     "text": [
      "2024/10/09 17:28:17 WARNING mlflow.models.model: Model logged without a signature and input example. Please set `input_example` parameter when logging the model to auto infer the model signature.\n",
      "Registered model 'LightGBM BayesOpt - Hyperparameter Tuning' already exists. Creating a new version of this model...\n",
      "2024/10/09 17:28:17 INFO mlflow.store.model_registry.abstract_store: Waiting up to 300 seconds for model version to finish creation. Model name: LightGBM BayesOpt - Hyperparameter Tuning, version 21\n",
      "Created version '21' of model 'LightGBM BayesOpt - Hyperparameter Tuning'.\n",
      "2024/10/09 17:28:18 INFO mlflow.tracking._tracking_service.client: 🏃 View run abrasive-ape-729 at: http://127.0.0.1:8080/#/experiments/117274172334453328/runs/cdbc0f7b95bc40249ad16eccd445c4cc.\n",
      "2024/10/09 17:28:18 INFO mlflow.tracking._tracking_service.client: 🧪 View experiment at: http://127.0.0.1:8080/#/experiments/117274172334453328.\n"
     ]
    },
    {
     "name": "stdout",
     "output_type": "stream",
     "text": [
      "| \u001b[0m21       \u001b[0m | \u001b[0m0.7626   \u001b[0m | \u001b[0m0.7004   \u001b[0m | \u001b[0m5.518    \u001b[0m | \u001b[0m0.08999  \u001b[0m | \u001b[0m172.2    \u001b[0m | \u001b[0m92.78    \u001b[0m | \u001b[0m0.9572   \u001b[0m | \u001b[0m0.1628   \u001b[0m | \u001b[0m0.7899   \u001b[0m |\n",
      "[LightGBM] [Info] Number of positive: 21101, number of negative: 240279\n",
      "[LightGBM] [Info] Auto-choosing row-wise multi-threading, the overhead of testing was 0.065239 seconds.\n",
      "You can set `force_row_wise=true` to remove the overhead.\n",
      "And if memory is not enough, you can set `force_col_wise=true`.\n",
      "[LightGBM] [Info] Total Bins 12893\n",
      "[LightGBM] [Info] Number of data points in the train set: 261380, number of used features: 243\n",
      "[LightGBM] [Info] [binary:BoostFromScore]: pavg=0.080729 -> initscore=-2.432480\n",
      "[LightGBM] [Info] Start training from score -2.432480\n",
      "Training until validation scores don't improve for 10 rounds\n",
      "Early stopping, best iteration is:\n",
      "[115]\tvalid_0's auc: 0.762564\tvalid_0's binary_logloss: 0.244774\n"
     ]
    },
    {
     "name": "stderr",
     "output_type": "stream",
     "text": [
      "2024/10/09 17:28:26 WARNING mlflow.models.model: Model logged without a signature and input example. Please set `input_example` parameter when logging the model to auto infer the model signature.\n",
      "Registered model 'LightGBM BayesOpt - Hyperparameter Tuning' already exists. Creating a new version of this model...\n",
      "2024/10/09 17:28:26 INFO mlflow.store.model_registry.abstract_store: Waiting up to 300 seconds for model version to finish creation. Model name: LightGBM BayesOpt - Hyperparameter Tuning, version 22\n",
      "Created version '22' of model 'LightGBM BayesOpt - Hyperparameter Tuning'.\n",
      "2024/10/09 17:28:26 INFO mlflow.tracking._tracking_service.client: 🏃 View run melodic-seal-499 at: http://127.0.0.1:8080/#/experiments/117274172334453328/runs/e49ab2c8a537479c9d3aed54a42a7bfd.\n",
      "2024/10/09 17:28:26 INFO mlflow.tracking._tracking_service.client: 🧪 View experiment at: http://127.0.0.1:8080/#/experiments/117274172334453328.\n"
     ]
    },
    {
     "name": "stdout",
     "output_type": "stream",
     "text": [
      "| \u001b[0m22       \u001b[0m | \u001b[0m0.7626   \u001b[0m | \u001b[0m0.8982   \u001b[0m | \u001b[0m11.38    \u001b[0m | \u001b[0m0.007951 \u001b[0m | \u001b[0m856.3    \u001b[0m | \u001b[0m40.87    \u001b[0m | \u001b[0m0.3116   \u001b[0m | \u001b[0m0.3673   \u001b[0m | \u001b[0m0.7371   \u001b[0m |\n",
      "[LightGBM] [Info] Number of positive: 21101, number of negative: 240279\n",
      "[LightGBM] [Info] Auto-choosing row-wise multi-threading, the overhead of testing was 0.038965 seconds.\n",
      "You can set `force_row_wise=true` to remove the overhead.\n",
      "And if memory is not enough, you can set `force_col_wise=true`.\n",
      "[LightGBM] [Info] Total Bins 12893\n",
      "[LightGBM] [Info] Number of data points in the train set: 261380, number of used features: 243\n",
      "[LightGBM] [Info] [binary:BoostFromScore]: pavg=0.080729 -> initscore=-2.432480\n",
      "[LightGBM] [Info] Start training from score -2.432480\n",
      "Training until validation scores don't improve for 10 rounds\n",
      "Early stopping, best iteration is:\n",
      "[94]\tvalid_0's auc: 0.762956\tvalid_0's binary_logloss: 0.244657\n"
     ]
    },
    {
     "name": "stderr",
     "output_type": "stream",
     "text": [
      "2024/10/09 17:28:34 WARNING mlflow.models.model: Model logged without a signature and input example. Please set `input_example` parameter when logging the model to auto infer the model signature.\n",
      "Registered model 'LightGBM BayesOpt - Hyperparameter Tuning' already exists. Creating a new version of this model...\n",
      "2024/10/09 17:28:34 INFO mlflow.store.model_registry.abstract_store: Waiting up to 300 seconds for model version to finish creation. Model name: LightGBM BayesOpt - Hyperparameter Tuning, version 23\n",
      "Created version '23' of model 'LightGBM BayesOpt - Hyperparameter Tuning'.\n",
      "2024/10/09 17:28:34 INFO mlflow.tracking._tracking_service.client: 🏃 View run upset-goat-16 at: http://127.0.0.1:8080/#/experiments/117274172334453328/runs/63419069f5144278b1bc193d1accb412.\n",
      "2024/10/09 17:28:34 INFO mlflow.tracking._tracking_service.client: 🧪 View experiment at: http://127.0.0.1:8080/#/experiments/117274172334453328.\n"
     ]
    },
    {
     "name": "stdout",
     "output_type": "stream",
     "text": [
      "| \u001b[0m23       \u001b[0m | \u001b[0m0.763    \u001b[0m | \u001b[0m0.9989   \u001b[0m | \u001b[0m13.65    \u001b[0m | \u001b[0m0.04043  \u001b[0m | \u001b[0m409.5    \u001b[0m | \u001b[0m40.16    \u001b[0m | \u001b[0m0.751    \u001b[0m | \u001b[0m0.6195   \u001b[0m | \u001b[0m0.8577   \u001b[0m |\n",
      "[LightGBM] [Info] Number of positive: 21101, number of negative: 240279\n",
      "[LightGBM] [Info] Auto-choosing col-wise multi-threading, the overhead of testing was 0.131058 seconds.\n",
      "You can set `force_col_wise=true` to remove the overhead.\n",
      "[LightGBM] [Info] Total Bins 12893\n",
      "[LightGBM] [Info] Number of data points in the train set: 261380, number of used features: 243\n",
      "[LightGBM] [Info] [binary:BoostFromScore]: pavg=0.080729 -> initscore=-2.432480\n",
      "[LightGBM] [Info] Start training from score -2.432480\n",
      "Training until validation scores don't improve for 10 rounds\n",
      "Early stopping, best iteration is:\n",
      "[64]\tvalid_0's auc: 0.761103\tvalid_0's binary_logloss: 0.245276\n"
     ]
    },
    {
     "name": "stderr",
     "output_type": "stream",
     "text": [
      "2024/10/09 17:28:43 WARNING mlflow.models.model: Model logged without a signature and input example. Please set `input_example` parameter when logging the model to auto infer the model signature.\n",
      "Registered model 'LightGBM BayesOpt - Hyperparameter Tuning' already exists. Creating a new version of this model...\n",
      "2024/10/09 17:28:43 INFO mlflow.store.model_registry.abstract_store: Waiting up to 300 seconds for model version to finish creation. Model name: LightGBM BayesOpt - Hyperparameter Tuning, version 24\n",
      "Created version '24' of model 'LightGBM BayesOpt - Hyperparameter Tuning'.\n",
      "2024/10/09 17:28:44 INFO mlflow.tracking._tracking_service.client: 🏃 View run unleashed-jay-41 at: http://127.0.0.1:8080/#/experiments/117274172334453328/runs/e63557090ff842f98807ebec4cc55a8a.\n",
      "2024/10/09 17:28:44 INFO mlflow.tracking._tracking_service.client: 🧪 View experiment at: http://127.0.0.1:8080/#/experiments/117274172334453328.\n"
     ]
    },
    {
     "name": "stdout",
     "output_type": "stream",
     "text": [
      "| \u001b[0m24       \u001b[0m | \u001b[0m0.7611   \u001b[0m | \u001b[0m0.7781   \u001b[0m | \u001b[0m14.44    \u001b[0m | \u001b[0m0.09832  \u001b[0m | \u001b[0m108.9    \u001b[0m | \u001b[0m96.71    \u001b[0m | \u001b[0m0.7127   \u001b[0m | \u001b[0m0.04474  \u001b[0m | \u001b[0m0.5169   \u001b[0m |\n",
      "[LightGBM] [Info] Number of positive: 21101, number of negative: 240279\n",
      "[LightGBM] [Info] Auto-choosing row-wise multi-threading, the overhead of testing was 0.040226 seconds.\n",
      "You can set `force_row_wise=true` to remove the overhead.\n",
      "And if memory is not enough, you can set `force_col_wise=true`.\n",
      "[LightGBM] [Info] Total Bins 12893\n",
      "[LightGBM] [Info] Number of data points in the train set: 261380, number of used features: 243\n",
      "[LightGBM] [Info] [binary:BoostFromScore]: pavg=0.080729 -> initscore=-2.432480\n",
      "[LightGBM] [Info] Start training from score -2.432480\n",
      "Training until validation scores don't improve for 10 rounds\n",
      "Early stopping, best iteration is:\n",
      "[209]\tvalid_0's auc: 0.762943\tvalid_0's binary_logloss: 0.244747\n"
     ]
    },
    {
     "name": "stderr",
     "output_type": "stream",
     "text": [
      "2024/10/09 17:28:52 WARNING mlflow.models.model: Model logged without a signature and input example. Please set `input_example` parameter when logging the model to auto infer the model signature.\n",
      "Registered model 'LightGBM BayesOpt - Hyperparameter Tuning' already exists. Creating a new version of this model...\n",
      "2024/10/09 17:28:52 INFO mlflow.store.model_registry.abstract_store: Waiting up to 300 seconds for model version to finish creation. Model name: LightGBM BayesOpt - Hyperparameter Tuning, version 25\n",
      "Created version '25' of model 'LightGBM BayesOpt - Hyperparameter Tuning'.\n",
      "2024/10/09 17:28:53 INFO mlflow.tracking._tracking_service.client: 🏃 View run amazing-ant-630 at: http://127.0.0.1:8080/#/experiments/117274172334453328/runs/c64de2aafb404c0d83a1c01dfb618fd0.\n",
      "2024/10/09 17:28:53 INFO mlflow.tracking._tracking_service.client: 🧪 View experiment at: http://127.0.0.1:8080/#/experiments/117274172334453328.\n"
     ]
    },
    {
     "name": "stdout",
     "output_type": "stream",
     "text": [
      "| \u001b[0m25       \u001b[0m | \u001b[0m0.7629   \u001b[0m | \u001b[0m0.9908   \u001b[0m | \u001b[0m13.43    \u001b[0m | \u001b[0m0.02323  \u001b[0m | \u001b[0m388.8    \u001b[0m | \u001b[0m14.08    \u001b[0m | \u001b[0m0.2037   \u001b[0m | \u001b[0m0.2816   \u001b[0m | \u001b[0m0.7967   \u001b[0m |\n",
      "[LightGBM] [Info] Number of positive: 21101, number of negative: 240279\n",
      "[LightGBM] [Info] Auto-choosing col-wise multi-threading, the overhead of testing was 0.114143 seconds.\n",
      "You can set `force_col_wise=true` to remove the overhead.\n",
      "[LightGBM] [Info] Total Bins 12893\n",
      "[LightGBM] [Info] Number of data points in the train set: 261380, number of used features: 243\n",
      "[LightGBM] [Info] [binary:BoostFromScore]: pavg=0.080729 -> initscore=-2.432480\n",
      "[LightGBM] [Info] Start training from score -2.432480\n",
      "Training until validation scores don't improve for 10 rounds\n",
      "Early stopping, best iteration is:\n",
      "[103]\tvalid_0's auc: 0.764417\tvalid_0's binary_logloss: 0.244175\n"
     ]
    },
    {
     "name": "stderr",
     "output_type": "stream",
     "text": [
      "2024/10/09 17:29:02 WARNING mlflow.models.model: Model logged without a signature and input example. Please set `input_example` parameter when logging the model to auto infer the model signature.\n",
      "Registered model 'LightGBM BayesOpt - Hyperparameter Tuning' already exists. Creating a new version of this model...\n",
      "2024/10/09 17:29:02 INFO mlflow.store.model_registry.abstract_store: Waiting up to 300 seconds for model version to finish creation. Model name: LightGBM BayesOpt - Hyperparameter Tuning, version 26\n",
      "Created version '26' of model 'LightGBM BayesOpt - Hyperparameter Tuning'.\n",
      "2024/10/09 17:29:02 INFO mlflow.tracking._tracking_service.client: 🏃 View run kindly-tern-321 at: http://127.0.0.1:8080/#/experiments/117274172334453328/runs/00f5ea7752044328a3b56cb331f0782d.\n",
      "2024/10/09 17:29:02 INFO mlflow.tracking._tracking_service.client: 🧪 View experiment at: http://127.0.0.1:8080/#/experiments/117274172334453328.\n"
     ]
    },
    {
     "name": "stdout",
     "output_type": "stream",
     "text": [
      "| \u001b[95m26       \u001b[0m | \u001b[95m0.7644   \u001b[0m | \u001b[95m0.5574   \u001b[0m | \u001b[95m8.474    \u001b[0m | \u001b[95m0.01052  \u001b[0m | \u001b[95m410.0    \u001b[0m | \u001b[95m57.54    \u001b[0m | \u001b[95m0.822    \u001b[0m | \u001b[95m0.7256   \u001b[0m | \u001b[95m0.5939   \u001b[0m |\n",
      "[LightGBM] [Info] Number of positive: 21101, number of negative: 240279\n",
      "[LightGBM] [Info] Auto-choosing col-wise multi-threading, the overhead of testing was 0.121607 seconds.\n",
      "You can set `force_col_wise=true` to remove the overhead.\n",
      "[LightGBM] [Info] Total Bins 12893\n",
      "[LightGBM] [Info] Number of data points in the train set: 261380, number of used features: 243\n",
      "[LightGBM] [Info] [binary:BoostFromScore]: pavg=0.080729 -> initscore=-2.432480\n",
      "[LightGBM] [Info] Start training from score -2.432480\n",
      "Training until validation scores don't improve for 10 rounds\n",
      "Early stopping, best iteration is:\n",
      "[103]\tvalid_0's auc: 0.763582\tvalid_0's binary_logloss: 0.244442\n"
     ]
    },
    {
     "name": "stderr",
     "output_type": "stream",
     "text": [
      "2024/10/09 17:29:12 WARNING mlflow.models.model: Model logged without a signature and input example. Please set `input_example` parameter when logging the model to auto infer the model signature.\n",
      "Registered model 'LightGBM BayesOpt - Hyperparameter Tuning' already exists. Creating a new version of this model...\n",
      "2024/10/09 17:29:12 INFO mlflow.store.model_registry.abstract_store: Waiting up to 300 seconds for model version to finish creation. Model name: LightGBM BayesOpt - Hyperparameter Tuning, version 27\n",
      "Created version '27' of model 'LightGBM BayesOpt - Hyperparameter Tuning'.\n",
      "2024/10/09 17:29:12 INFO mlflow.tracking._tracking_service.client: 🏃 View run grandiose-steed-726 at: http://127.0.0.1:8080/#/experiments/117274172334453328/runs/0324e3b433a74b208eebc27c57378721.\n",
      "2024/10/09 17:29:12 INFO mlflow.tracking._tracking_service.client: 🧪 View experiment at: http://127.0.0.1:8080/#/experiments/117274172334453328.\n"
     ]
    },
    {
     "name": "stdout",
     "output_type": "stream",
     "text": [
      "| \u001b[0m27       \u001b[0m | \u001b[0m0.7636   \u001b[0m | \u001b[0m0.5931   \u001b[0m | \u001b[0m18.5     \u001b[0m | \u001b[0m0.03249  \u001b[0m | \u001b[0m841.3    \u001b[0m | \u001b[0m56.77    \u001b[0m | \u001b[0m0.8844   \u001b[0m | \u001b[0m0.2907   \u001b[0m | \u001b[0m0.9527   \u001b[0m |\n",
      "[LightGBM] [Info] Number of positive: 21101, number of negative: 240279\n",
      "[LightGBM] [Info] Auto-choosing row-wise multi-threading, the overhead of testing was 0.052568 seconds.\n",
      "You can set `force_row_wise=true` to remove the overhead.\n",
      "And if memory is not enough, you can set `force_col_wise=true`.\n",
      "[LightGBM] [Info] Total Bins 12893\n",
      "[LightGBM] [Info] Number of data points in the train set: 261380, number of used features: 243\n",
      "[LightGBM] [Info] [binary:BoostFromScore]: pavg=0.080729 -> initscore=-2.432480\n",
      "[LightGBM] [Info] Start training from score -2.432480\n",
      "Training until validation scores don't improve for 10 rounds\n",
      "Early stopping, best iteration is:\n",
      "[75]\tvalid_0's auc: 0.76193\tvalid_0's binary_logloss: 0.244871\n"
     ]
    },
    {
     "name": "stderr",
     "output_type": "stream",
     "text": [
      "2024/10/09 17:29:21 WARNING mlflow.models.model: Model logged without a signature and input example. Please set `input_example` parameter when logging the model to auto infer the model signature.\n",
      "Registered model 'LightGBM BayesOpt - Hyperparameter Tuning' already exists. Creating a new version of this model...\n",
      "2024/10/09 17:29:21 INFO mlflow.store.model_registry.abstract_store: Waiting up to 300 seconds for model version to finish creation. Model name: LightGBM BayesOpt - Hyperparameter Tuning, version 28\n",
      "Created version '28' of model 'LightGBM BayesOpt - Hyperparameter Tuning'.\n",
      "2024/10/09 17:29:21 INFO mlflow.tracking._tracking_service.client: 🏃 View run carefree-gull-561 at: http://127.0.0.1:8080/#/experiments/117274172334453328/runs/061596f93c634b008a716d3ce4fac366.\n",
      "2024/10/09 17:29:21 INFO mlflow.tracking._tracking_service.client: 🧪 View experiment at: http://127.0.0.1:8080/#/experiments/117274172334453328.\n"
     ]
    },
    {
     "name": "stdout",
     "output_type": "stream",
     "text": [
      "| \u001b[0m28       \u001b[0m | \u001b[0m0.7619   \u001b[0m | \u001b[0m0.945    \u001b[0m | \u001b[0m19.38    \u001b[0m | \u001b[0m0.03226  \u001b[0m | \u001b[0m619.9    \u001b[0m | \u001b[0m82.96    \u001b[0m | \u001b[0m0.9039   \u001b[0m | \u001b[0m0.1887   \u001b[0m | \u001b[0m0.7069   \u001b[0m |\n",
      "[LightGBM] [Info] Number of positive: 21101, number of negative: 240279\n",
      "[LightGBM] [Info] Auto-choosing col-wise multi-threading, the overhead of testing was 0.173057 seconds.\n",
      "You can set `force_col_wise=true` to remove the overhead.\n",
      "[LightGBM] [Info] Total Bins 12893\n",
      "[LightGBM] [Info] Number of data points in the train set: 261380, number of used features: 243\n",
      "[LightGBM] [Info] [binary:BoostFromScore]: pavg=0.080729 -> initscore=-2.432480\n",
      "[LightGBM] [Info] Start training from score -2.432480\n",
      "Training until validation scores don't improve for 10 rounds\n",
      "Early stopping, best iteration is:\n",
      "[92]\tvalid_0's auc: 0.763156\tvalid_0's binary_logloss: 0.244631\n"
     ]
    },
    {
     "name": "stderr",
     "output_type": "stream",
     "text": [
      "2024/10/09 17:29:31 WARNING mlflow.models.model: Model logged without a signature and input example. Please set `input_example` parameter when logging the model to auto infer the model signature.\n",
      "Registered model 'LightGBM BayesOpt - Hyperparameter Tuning' already exists. Creating a new version of this model...\n",
      "2024/10/09 17:29:31 INFO mlflow.store.model_registry.abstract_store: Waiting up to 300 seconds for model version to finish creation. Model name: LightGBM BayesOpt - Hyperparameter Tuning, version 29\n",
      "Created version '29' of model 'LightGBM BayesOpt - Hyperparameter Tuning'.\n",
      "2024/10/09 17:29:31 INFO mlflow.tracking._tracking_service.client: 🏃 View run silent-robin-677 at: http://127.0.0.1:8080/#/experiments/117274172334453328/runs/cb55360eed2c483f8838d2c6f399c181.\n",
      "2024/10/09 17:29:31 INFO mlflow.tracking._tracking_service.client: 🧪 View experiment at: http://127.0.0.1:8080/#/experiments/117274172334453328.\n"
     ]
    },
    {
     "name": "stdout",
     "output_type": "stream",
     "text": [
      "| \u001b[0m29       \u001b[0m | \u001b[0m0.7632   \u001b[0m | \u001b[0m0.6417   \u001b[0m | \u001b[0m13.58    \u001b[0m | \u001b[0m0.066    \u001b[0m | \u001b[0m699.8    \u001b[0m | \u001b[0m29.72    \u001b[0m | \u001b[0m0.01981  \u001b[0m | \u001b[0m0.9743   \u001b[0m | \u001b[0m0.5594   \u001b[0m |\n",
      "[LightGBM] [Info] Number of positive: 21101, number of negative: 240279\n",
      "[LightGBM] [Info] Auto-choosing row-wise multi-threading, the overhead of testing was 0.043389 seconds.\n",
      "You can set `force_row_wise=true` to remove the overhead.\n",
      "And if memory is not enough, you can set `force_col_wise=true`.\n",
      "[LightGBM] [Info] Total Bins 12893\n",
      "[LightGBM] [Info] Number of data points in the train set: 261380, number of used features: 243\n",
      "[LightGBM] [Info] [binary:BoostFromScore]: pavg=0.080729 -> initscore=-2.432480\n",
      "[LightGBM] [Info] Start training from score -2.432480\n",
      "Training until validation scores don't improve for 10 rounds\n",
      "Early stopping, best iteration is:\n",
      "[89]\tvalid_0's auc: 0.76077\tvalid_0's binary_logloss: 0.245236\n"
     ]
    },
    {
     "name": "stderr",
     "output_type": "stream",
     "text": [
      "2024/10/09 17:29:40 WARNING mlflow.models.model: Model logged without a signature and input example. Please set `input_example` parameter when logging the model to auto infer the model signature.\n",
      "Registered model 'LightGBM BayesOpt - Hyperparameter Tuning' already exists. Creating a new version of this model...\n",
      "2024/10/09 17:29:40 INFO mlflow.store.model_registry.abstract_store: Waiting up to 300 seconds for model version to finish creation. Model name: LightGBM BayesOpt - Hyperparameter Tuning, version 30\n",
      "Created version '30' of model 'LightGBM BayesOpt - Hyperparameter Tuning'.\n",
      "2024/10/09 17:29:40 INFO mlflow.tracking._tracking_service.client: 🏃 View run nimble-loon-646 at: http://127.0.0.1:8080/#/experiments/117274172334453328/runs/9dba39cdb5884a9b8bfeca37d15e2349.\n",
      "2024/10/09 17:29:40 INFO mlflow.tracking._tracking_service.client: 🧪 View experiment at: http://127.0.0.1:8080/#/experiments/117274172334453328.\n",
      "2024/10/09 17:29:40 INFO mlflow.tracking._tracking_service.client: 🏃 View run LightGBM BayesOpt - Hyperparameter Tuning at: http://127.0.0.1:8080/#/experiments/117274172334453328/runs/8a30c2e1a4394afb9be841c67413f3d9.\n",
      "2024/10/09 17:29:40 INFO mlflow.tracking._tracking_service.client: 🧪 View experiment at: http://127.0.0.1:8080/#/experiments/117274172334453328.\n"
     ]
    },
    {
     "name": "stdout",
     "output_type": "stream",
     "text": [
      "| \u001b[0m30       \u001b[0m | \u001b[0m0.7608   \u001b[0m | \u001b[0m0.7984   \u001b[0m | \u001b[0m10.66    \u001b[0m | \u001b[0m0.03141  \u001b[0m | \u001b[0m960.5    \u001b[0m | \u001b[0m56.56    \u001b[0m | \u001b[0m0.2947   \u001b[0m | \u001b[0m0.1397   \u001b[0m | \u001b[0m0.602    \u001b[0m |\n",
      "=========================================================================================================================\n"
     ]
    }
   ],
   "source": [
    "# Démarrer une nouvelle exécution\n",
    "with mlflow.start_run(run_name=\"LightGBM BayesOpt - Hyperparameter Tuning\") as run:\n",
    "\n",
    "    # Fonction d'évaluation à optimiser\n",
    "    def lgb_evaluate(n_estimators, num_leaves, colsample_bytree, subsample, max_depth, reg_alpha, reg_lambda, min_split_gain):\n",
    "        # Définir le modèle avec les hyperparamètres à optimiser\n",
    "        clf = LGBMClassifier(\n",
    "            n_estimators=int(n_estimators),\n",
    "            num_leaves=int(num_leaves),\n",
    "            colsample_bytree=max(min(colsample_bytree, 1), 0),\n",
    "            subsample=max(min(subsample, 1), 0),\n",
    "            max_depth=int(max_depth),\n",
    "            reg_alpha=max(reg_alpha, 0),\n",
    "            reg_lambda=max(reg_lambda, 0),\n",
    "            min_split_gain=min_split_gain\n",
    "        )\n",
    "\n",
    "        # Entraîner le modèle sur l'ensemble d'entraînement\n",
    "        clf.fit(x_train_strat, y_train_strat, eval_set=[(x_valid_strat, y_valid_strat)], eval_metric='auc', callbacks=[early_stopping(stopping_rounds=10)])\n",
    "\n",
    "        # Prédire les probabilités sur le jeu de validation\n",
    "        y_proba = clf.predict_proba(x_valid_strat)[:, 1]\n",
    "        y_pred = (y_proba >= cutoff).astype(int)\n",
    "\n",
    "        # Calculer les taux de FP et FN\n",
    "        accuracy = accuracy_score(y_valid_strat, y_pred)\n",
    "        recall = recall_score(y_valid_strat, y_pred)\n",
    "        precision = precision_score(y_valid_strat, y_pred)\n",
    "        f1 = f1_score(y_valid_strat, y_pred)\n",
    "        fbeta = fbeta_score(y_valid_strat, y_pred, beta=10)\n",
    "        roc_auc = roc_auc_score(y_valid_strat, y_proba)\n",
    "        conf_matrix = confusion_matrix(y_valid_strat, y_pred)\n",
    "\n",
    "        with mlflow.start_run(nested=True):\n",
    "            \n",
    "            # Enregistrer le modèle DummyClassifier\n",
    "            mlflow.sklearn.log_model(clf, \"LGBM_classifier\", registered_model_name=\"LightGBM BayesOpt - Hyperparameter Tuning\")\n",
    "    \n",
    "            # Loguer les métriques dans MLflow\n",
    "            mlflow.log_metric(\"Accuracy\", accuracy)\n",
    "            mlflow.log_metric(\"Recall\", recall)\n",
    "            mlflow.log_metric(\"Precision\", precision)\n",
    "            mlflow.log_metric(\"F1 Score\", f1)\n",
    "            mlflow.log_metric(\"F10 Score\", fbeta)\n",
    "            mlflow.log_metric(\"ROC AUC\", roc_auc)\n",
    "\n",
    "            # Loguer les hyperparamètres dans MLflow\n",
    "            mlflow.log_param(\"n_estimators\", int(n_estimators))\n",
    "            mlflow.log_param(\"num_leaves\", int(num_leaves))\n",
    "            mlflow.log_param(\"colsample_bytree\", colsample_bytree)\n",
    "            mlflow.log_param(\"subsample\", subsample)\n",
    "            mlflow.log_param(\"max_depth\", int(max_depth))\n",
    "            mlflow.log_param(\"reg_alpha\", reg_alpha)\n",
    "            mlflow.log_param(\"reg_lambda\", reg_lambda)\n",
    "            mlflow.log_param(\"min_split_gain\", min_split_gain)\n",
    "        \n",
    "        return roc_auc\n",
    "\n",
    "    # Définir les limites de recherche pour chaque hyperparamètre\n",
    "    param_V1 = {\n",
    "                'n_estimators': (100, 1000),              # Nombre d'estimations entre 100 et 1000\n",
    "                'num_leaves': (10, 100),                  # Nombre de feuilles entre 10 et 100\n",
    "                'colsample_bytree': (0.5, 1),             # Pourcentage d'échantillons par arbre\n",
    "                'subsample': (0.5, 1),                    # Pourcentage d'échantillons dans chaque arbre\n",
    "                'max_depth': (5, 20),                     # Profondeur maximale de l'arbre\n",
    "                'reg_alpha': (0, 1),                      # Régularisation L1\n",
    "                'reg_lambda': (0, 1),                     # Régularisation L2\n",
    "                'min_split_gain': (0, 0.1)                # Gain minimal pour diviser un nœud\n",
    "                }\n",
    "\n",
    "    # Instancier l'optimiseur bayésien\n",
    "    optimizer = BayesianOptimization(f=lgb_evaluate, pbounds=param_V1, random_state=88)\n",
    "\n",
    "    # Lancer l'optimisation bayésienne\n",
    "    optimizer.maximize(init_points=5, n_iter=25)\n",
    "    \n",
    "    # Enregistrer les meilleurs hyperparamètres obtenus dans MLflow\n",
    "    best_params = optimizer.max['params']\n",
    "    mlflow.log_params(best_params)\n",
    "    \n",
    "    # Enregistrer la meilleure performance (AUC) obtenue dans MLflow\n",
    "    mlflow.log_metric(\"Best AUC\", optimizer.max['target'])"
   ]
  },
  {
   "cell_type": "code",
   "execution_count": 15,
   "id": "6c9248e8",
   "metadata": {
    "ExecuteTime": {
     "end_time": "2024-10-09T15:29:50.827215Z",
     "start_time": "2024-10-09T15:29:40.948623Z"
    },
    "hidden": true,
    "scrolled": true
   },
   "outputs": [
    {
     "name": "stdout",
     "output_type": "stream",
     "text": [
      "[LightGBM] [Info] Number of positive: 21101, number of negative: 240279\n",
      "[LightGBM] [Info] Auto-choosing col-wise multi-threading, the overhead of testing was 0.157589 seconds.\n",
      "You can set `force_col_wise=true` to remove the overhead.\n",
      "[LightGBM] [Info] Total Bins 12893\n",
      "[LightGBM] [Info] Number of data points in the train set: 261380, number of used features: 243\n",
      "[LightGBM] [Info] [binary:BoostFromScore]: pavg=0.080729 -> initscore=-2.432480\n",
      "[LightGBM] [Info] Start training from score -2.432480\n",
      "Training until validation scores don't improve for 10 rounds\n",
      "Early stopping, best iteration is:\n",
      "[103]\tvalid_0's auc: 0.764417\tvalid_0's binary_logloss: 0.244175\n"
     ]
    },
    {
     "name": "stderr",
     "output_type": "stream",
     "text": [
      "2024/10/09 17:29:50 WARNING mlflow.models.model: Model logged without a signature and input example. Please set `input_example` parameter when logging the model to auto infer the model signature.\n",
      "Successfully registered model 'LightGBM BayesOpt - Best Hyperparameter'.\n",
      "2024/10/09 17:29:50 INFO mlflow.store.model_registry.abstract_store: Waiting up to 300 seconds for model version to finish creation. Model name: LightGBM BayesOpt - Best Hyperparameter, version 1\n",
      "Created version '1' of model 'LightGBM BayesOpt - Best Hyperparameter'.\n",
      "2024/10/09 17:29:50 INFO mlflow.tracking._tracking_service.client: 🏃 View run LightGBM BayesOpt - Best Hyperparameter at: http://127.0.0.1:8080/#/experiments/117274172334453328/runs/b21446de17a940e89b95c13ff0256f5c.\n",
      "2024/10/09 17:29:50 INFO mlflow.tracking._tracking_service.client: 🧪 View experiment at: http://127.0.0.1:8080/#/experiments/117274172334453328.\n"
     ]
    }
   ],
   "source": [
    "# Hyperparamètres optimisés\n",
    "param_V2 = {\n",
    "            'n_estimators': int(optimizer.max['params']['n_estimators']),\n",
    "            'num_leaves': int(optimizer.max['params']['num_leaves']),\n",
    "            'colsample_bytree': optimizer.max['params']['colsample_bytree'],\n",
    "            'subsample': optimizer.max['params']['subsample'],\n",
    "            'max_depth': int(optimizer.max['params']['max_depth']),\n",
    "            'reg_alpha': optimizer.max['params']['reg_alpha'],\n",
    "            'reg_lambda': optimizer.max['params']['reg_lambda'],\n",
    "            'min_split_gain': optimizer.max['params']['min_split_gain']\n",
    "            }\n",
    "\n",
    "# Instanciation du modèle avec les hyperparamètres optimisés\n",
    "clf_V2 = LGBMClassifier(**param_V2)\n",
    "\n",
    "# Entraîner le modèle avec les données d'entraînement\n",
    "clf_V2.fit(x_train_strat, y_train_strat, eval_set=[(x_valid_strat, y_valid_strat)], eval_metric='auc', callbacks=[early_stopping(stopping_rounds=10)])\n",
    "\n",
    "# Prédire sur le jeu de validation et calculer l'AUC\n",
    "y_proba = clf_V2.predict_proba(x_valid_strat)[:, 1]\n",
    "y_pred = (y_proba >= cutoff).astype(int)\n",
    "\n",
    "# Obtenir la matrice de confusion\n",
    "tn, fp, fn, tp = confusion_matrix(y_valid_strat, y_pred).ravel()\n",
    "\n",
    "# Calculer les metriques\n",
    "accuracy = accuracy_score(y_valid_strat, y_pred)\n",
    "recall = recall_score(y_valid_strat, y_pred)\n",
    "precision = precision_score(y_valid_strat, y_pred)\n",
    "f1 = f1_score(y_valid_strat, y_pred)\n",
    "fbeta = fbeta_score(y_valid_strat, y_pred, beta=10)\n",
    "roc_auc = roc_auc_score(y_valid_strat, y_proba)\n",
    "conf_matrix = confusion_matrix(y_valid_strat, y_pred)\n",
    "\n",
    "# Démarrer une session MLflow\n",
    "with mlflow.start_run(run_name=\"LightGBM BayesOpt - Best Hyperparameter\") as run:    \n",
    "    \n",
    "    # Enregistrer la matrice de confusion dans un fichier\n",
    "    np.savetxt(\"confusion_matrix.txt\", conf_matrix, fmt='%d')\n",
    "    \n",
    "    # Enregistrer le modèle LightGBM dans MLflow\n",
    "    mlflow.lightgbm.log_model(clf_V2, \"lightgbm_model\", registered_model_name=\"LightGBM BayesOpt - Best Hyperparameter\")\n",
    "    \n",
    "    # Enregistrer les métriques dans MLflow\n",
    "    mlflow.log_metric(\"Accuracy\", accuracy)\n",
    "    mlflow.log_metric(\"Recall\", recall)\n",
    "    mlflow.log_metric(\"Precision\", precision)\n",
    "    mlflow.log_metric(\"F1 Score\", f1)\n",
    "    mlflow.log_metric(\"F10 Score\", fbeta)\n",
    "    mlflow.log_metric(\"ROC AUC\", roc_auc)\n",
    "\n",
    "    # Enregistrer la matrice de confusion comme artefact\n",
    "    with open(\"confusion_matrix.txt\", \"w\") as f:\n",
    "        f.write(str(conf_matrix))\n",
    "    mlflow.log_artifact(\"confusion_matrix.txt\")\n",
    "\n",
    "    # Enregistrer les hyperparamètres dans MLflow\n",
    "    mlflow.log_param(\"n_estimators\", int(optimizer.max['params']['n_estimators']))\n",
    "    mlflow.log_param(\"num_leaves\", int(optimizer.max['params']['num_leaves']))\n",
    "    mlflow.log_param(\"colsample_bytree\", optimizer.max['params']['colsample_bytree'])\n",
    "    mlflow.log_param(\"subsample\", optimizer.max['params']['subsample'])\n",
    "    mlflow.log_param(\"max_depth\", int(optimizer.max['params']['max_depth']))\n",
    "    mlflow.log_param(\"reg_alpha\", optimizer.max['params']['reg_alpha'])\n",
    "    mlflow.log_param(\"reg_lambda\", optimizer.max['params']['reg_lambda'])\n",
    "    mlflow.log_param(\"min_split_gain\", optimizer.max['params']['min_split_gain'])"
   ]
  },
  {
   "cell_type": "code",
   "execution_count": null,
   "id": "2ab5ba78",
   "metadata": {
    "hidden": true
   },
   "outputs": [],
   "source": []
  },
  {
   "cell_type": "code",
   "execution_count": null,
   "id": "f5a968c8",
   "metadata": {
    "hidden": true
   },
   "outputs": [],
   "source": []
  },
  {
   "cell_type": "code",
   "execution_count": null,
   "id": "2a332c7e",
   "metadata": {
    "hidden": true
   },
   "outputs": [],
   "source": []
  },
  {
   "cell_type": "code",
   "execution_count": null,
   "id": "1136aec9",
   "metadata": {
    "hidden": true
   },
   "outputs": [],
   "source": []
  },
  {
   "cell_type": "code",
   "execution_count": null,
   "id": "43af54ac",
   "metadata": {
    "hidden": true
   },
   "outputs": [],
   "source": []
  },
  {
   "cell_type": "code",
   "execution_count": null,
   "id": "f72798cc",
   "metadata": {
    "hidden": true
   },
   "outputs": [],
   "source": []
  }
 ],
 "metadata": {
  "kernelspec": {
   "display_name": "Python 3 (ipykernel)",
   "language": "python",
   "name": "python3"
  },
  "language_info": {
   "codemirror_mode": {
    "name": "ipython",
    "version": 3
   },
   "file_extension": ".py",
   "mimetype": "text/x-python",
   "name": "python",
   "nbconvert_exporter": "python",
   "pygments_lexer": "ipython3",
   "version": "3.8.15"
  }
 },
 "nbformat": 4,
 "nbformat_minor": 5
}
